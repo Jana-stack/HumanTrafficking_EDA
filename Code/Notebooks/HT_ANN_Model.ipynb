{
  "nbformat": 4,
  "nbformat_minor": 0,
  "metadata": {
    "colab": {
      "provenance": []
    },
    "kernelspec": {
      "name": "python3",
      "display_name": "Python 3"
    },
    "language_info": {
      "name": "python"
    }
  },
  "cells": [
    {
      "cell_type": "markdown",
      "source": [
        "<center> <img src =\"https://i.postimg.cc/1X8H7YYt/BITS-Logo.png\" width = \"400\" alt=\"BITS Pilani Logo\" /> </center>"
      ],
      "metadata": {
        "id": "eXxshAFLoslz"
      }
    },
    {
      "cell_type": "markdown",
      "source": [
        "# **ANN MODELING**"
      ],
      "metadata": {
        "id": "LiU9zWYJGAyp"
      }
    },
    {
      "cell_type": "markdown",
      "source": [
        "# **Import the required library for DL**\n",
        "\n",
        "---"
      ],
      "metadata": {
        "id": "cHSYObHMo_zi"
      }
    },
    {
      "cell_type": "code",
      "source": [
        "import pandas as pd\n",
        "import numpy as np\n",
        "import torch\n",
        "from torch import nn\n",
        "import matplotlib.pyplot as plt\n",
        "from torch.utils.data import Dataset, DataLoader,random_split\n",
        "import warnings\n",
        "warnings.filterwarnings(\"ignore\")\n",
        "\n",
        "\n",
        "import nltk\n",
        "import string\n",
        "import re\n",
        "\n",
        "nltk.download('punkt')\n",
        "nltk.download('stopwords')\n",
        "nltk.download('wordnet')\n",
        "nltk.download('omw-1.4')\n",
        "nltk.download('averaged_perceptron_tagger')\n",
        "nltk.download('treebank')\n",
        "\n",
        "from nltk.corpus import stopwords\n",
        "stop_words = set(stopwords.words('english'))\n",
        "\n",
        "from nltk.stem import WordNetLemmatizer\n",
        "from nltk.stem import PorterStemmer\n",
        "\n",
        "from wordcloud import WordCloud\n",
        "\n",
        "from sklearn.feature_extraction.text import CountVectorizer, TfidfVectorizer\n",
        "from sklearn import metrics\n",
        "\n",
        "\n",
        "from nltk.tag import hmm\n",
        "from nltk.corpus import treebank"
      ],
      "metadata": {
        "colab": {
          "base_uri": "https://localhost:8080/"
        },
        "id": "VwmTPZmupAgi",
        "outputId": "6bfe6033-81fc-4659-89a3-4f283c7462a4"
      },
      "execution_count": 57,
      "outputs": [
        {
          "output_type": "stream",
          "name": "stderr",
          "text": [
            "[nltk_data] Downloading package punkt to /root/nltk_data...\n",
            "[nltk_data]   Package punkt is already up-to-date!\n",
            "[nltk_data] Downloading package stopwords to /root/nltk_data...\n",
            "[nltk_data]   Package stopwords is already up-to-date!\n",
            "[nltk_data] Downloading package wordnet to /root/nltk_data...\n",
            "[nltk_data]   Package wordnet is already up-to-date!\n",
            "[nltk_data] Downloading package omw-1.4 to /root/nltk_data...\n",
            "[nltk_data]   Package omw-1.4 is already up-to-date!\n",
            "[nltk_data] Downloading package averaged_perceptron_tagger to\n",
            "[nltk_data]     /root/nltk_data...\n",
            "[nltk_data]   Package averaged_perceptron_tagger is already up-to-\n",
            "[nltk_data]       date!\n",
            "[nltk_data] Downloading package treebank to /root/nltk_data...\n",
            "[nltk_data]   Package treebank is already up-to-date!\n"
          ]
        }
      ]
    },
    {
      "cell_type": "code",
      "source": [
        "#Read the data set\n",
        "csv_file =\"HumanTrafficking_CLEAN_Dataset.csv\"\n",
        "df_dl =pd.read_csv(csv_file,index_col=0)"
      ],
      "metadata": {
        "id": "4WCNEkWcpMQZ"
      },
      "execution_count": 58,
      "outputs": []
    },
    {
      "cell_type": "code",
      "source": [
        "df_dl.head(5)"
      ],
      "metadata": {
        "colab": {
          "base_uri": "https://localhost:8080/",
          "height": 206
        },
        "id": "l6H2ZlIZpdRB",
        "outputId": "0f05e42c-51c0-4773-9296-573bfd03ce7a"
      },
      "execution_count": 59,
      "outputs": [
        {
          "output_type": "execute_result",
          "data": {
            "text/plain": [
              "                                               Title  Age  \\\n",
              "0  call girls in riya 24x7 hot sexy best housewif...   21   \n",
              "1  no advance  out call door step independent cal...   21   \n",
              "2  call girls in jp nagar hot sexy independent gi...   21   \n",
              "3             sneha independent kannada girl call me   21   \n",
              "5  call ammu 1500 shot 5500 night call girl avail...   21   \n",
              "\n",
              "                                         description  websiteRef  Minor  \\\n",
              "0         hyy guys https   wa me   i am riya inde...           1      1   \n",
              "1         no advance direct payment hotel and hom...           1      1   \n",
              "2         professional escort services  https   w...           1      1   \n",
              "3         sneha   hand cash online payments for t...           0      1   \n",
              "5         get in touch in whatsapp now directly w...           1      1   \n",
              "\n",
              "   LangPattern  Trafficked  \n",
              "0            1           1  \n",
              "1            0           0  \n",
              "2            1           1  \n",
              "3            0           0  \n",
              "5            0           0  "
            ],
            "text/html": [
              "\n",
              "  <div id=\"df-9aea29e1-421a-4b46-8aba-5cd9fee940f7\" class=\"colab-df-container\">\n",
              "    <div>\n",
              "<style scoped>\n",
              "    .dataframe tbody tr th:only-of-type {\n",
              "        vertical-align: middle;\n",
              "    }\n",
              "\n",
              "    .dataframe tbody tr th {\n",
              "        vertical-align: top;\n",
              "    }\n",
              "\n",
              "    .dataframe thead th {\n",
              "        text-align: right;\n",
              "    }\n",
              "</style>\n",
              "<table border=\"1\" class=\"dataframe\">\n",
              "  <thead>\n",
              "    <tr style=\"text-align: right;\">\n",
              "      <th></th>\n",
              "      <th>Title</th>\n",
              "      <th>Age</th>\n",
              "      <th>description</th>\n",
              "      <th>websiteRef</th>\n",
              "      <th>Minor</th>\n",
              "      <th>LangPattern</th>\n",
              "      <th>Trafficked</th>\n",
              "    </tr>\n",
              "  </thead>\n",
              "  <tbody>\n",
              "    <tr>\n",
              "      <th>0</th>\n",
              "      <td>call girls in riya 24x7 hot sexy best housewif...</td>\n",
              "      <td>21</td>\n",
              "      <td>hyy guys https   wa me   i am riya inde...</td>\n",
              "      <td>1</td>\n",
              "      <td>1</td>\n",
              "      <td>1</td>\n",
              "      <td>1</td>\n",
              "    </tr>\n",
              "    <tr>\n",
              "      <th>1</th>\n",
              "      <td>no advance  out call door step independent cal...</td>\n",
              "      <td>21</td>\n",
              "      <td>no advance direct payment hotel and hom...</td>\n",
              "      <td>1</td>\n",
              "      <td>1</td>\n",
              "      <td>0</td>\n",
              "      <td>0</td>\n",
              "    </tr>\n",
              "    <tr>\n",
              "      <th>2</th>\n",
              "      <td>call girls in jp nagar hot sexy independent gi...</td>\n",
              "      <td>21</td>\n",
              "      <td>professional escort services  https   w...</td>\n",
              "      <td>1</td>\n",
              "      <td>1</td>\n",
              "      <td>1</td>\n",
              "      <td>1</td>\n",
              "    </tr>\n",
              "    <tr>\n",
              "      <th>3</th>\n",
              "      <td>sneha independent kannada girl call me</td>\n",
              "      <td>21</td>\n",
              "      <td>sneha   hand cash online payments for t...</td>\n",
              "      <td>0</td>\n",
              "      <td>1</td>\n",
              "      <td>0</td>\n",
              "      <td>0</td>\n",
              "    </tr>\n",
              "    <tr>\n",
              "      <th>5</th>\n",
              "      <td>call ammu 1500 shot 5500 night call girl avail...</td>\n",
              "      <td>21</td>\n",
              "      <td>get in touch in whatsapp now directly w...</td>\n",
              "      <td>1</td>\n",
              "      <td>1</td>\n",
              "      <td>0</td>\n",
              "      <td>0</td>\n",
              "    </tr>\n",
              "  </tbody>\n",
              "</table>\n",
              "</div>\n",
              "    <div class=\"colab-df-buttons\">\n",
              "\n",
              "  <div class=\"colab-df-container\">\n",
              "    <button class=\"colab-df-convert\" onclick=\"convertToInteractive('df-9aea29e1-421a-4b46-8aba-5cd9fee940f7')\"\n",
              "            title=\"Convert this dataframe to an interactive table.\"\n",
              "            style=\"display:none;\">\n",
              "\n",
              "  <svg xmlns=\"http://www.w3.org/2000/svg\" height=\"24px\" viewBox=\"0 -960 960 960\">\n",
              "    <path d=\"M120-120v-720h720v720H120Zm60-500h600v-160H180v160Zm220 220h160v-160H400v160Zm0 220h160v-160H400v160ZM180-400h160v-160H180v160Zm440 0h160v-160H620v160ZM180-180h160v-160H180v160Zm440 0h160v-160H620v160Z\"/>\n",
              "  </svg>\n",
              "    </button>\n",
              "\n",
              "  <style>\n",
              "    .colab-df-container {\n",
              "      display:flex;\n",
              "      gap: 12px;\n",
              "    }\n",
              "\n",
              "    .colab-df-convert {\n",
              "      background-color: #E8F0FE;\n",
              "      border: none;\n",
              "      border-radius: 50%;\n",
              "      cursor: pointer;\n",
              "      display: none;\n",
              "      fill: #1967D2;\n",
              "      height: 32px;\n",
              "      padding: 0 0 0 0;\n",
              "      width: 32px;\n",
              "    }\n",
              "\n",
              "    .colab-df-convert:hover {\n",
              "      background-color: #E2EBFA;\n",
              "      box-shadow: 0px 1px 2px rgba(60, 64, 67, 0.3), 0px 1px 3px 1px rgba(60, 64, 67, 0.15);\n",
              "      fill: #174EA6;\n",
              "    }\n",
              "\n",
              "    .colab-df-buttons div {\n",
              "      margin-bottom: 4px;\n",
              "    }\n",
              "\n",
              "    [theme=dark] .colab-df-convert {\n",
              "      background-color: #3B4455;\n",
              "      fill: #D2E3FC;\n",
              "    }\n",
              "\n",
              "    [theme=dark] .colab-df-convert:hover {\n",
              "      background-color: #434B5C;\n",
              "      box-shadow: 0px 1px 3px 1px rgba(0, 0, 0, 0.15);\n",
              "      filter: drop-shadow(0px 1px 2px rgba(0, 0, 0, 0.3));\n",
              "      fill: #FFFFFF;\n",
              "    }\n",
              "  </style>\n",
              "\n",
              "    <script>\n",
              "      const buttonEl =\n",
              "        document.querySelector('#df-9aea29e1-421a-4b46-8aba-5cd9fee940f7 button.colab-df-convert');\n",
              "      buttonEl.style.display =\n",
              "        google.colab.kernel.accessAllowed ? 'block' : 'none';\n",
              "\n",
              "      async function convertToInteractive(key) {\n",
              "        const element = document.querySelector('#df-9aea29e1-421a-4b46-8aba-5cd9fee940f7');\n",
              "        const dataTable =\n",
              "          await google.colab.kernel.invokeFunction('convertToInteractive',\n",
              "                                                    [key], {});\n",
              "        if (!dataTable) return;\n",
              "\n",
              "        const docLinkHtml = 'Like what you see? Visit the ' +\n",
              "          '<a target=\"_blank\" href=https://colab.research.google.com/notebooks/data_table.ipynb>data table notebook</a>'\n",
              "          + ' to learn more about interactive tables.';\n",
              "        element.innerHTML = '';\n",
              "        dataTable['output_type'] = 'display_data';\n",
              "        await google.colab.output.renderOutput(dataTable, element);\n",
              "        const docLink = document.createElement('div');\n",
              "        docLink.innerHTML = docLinkHtml;\n",
              "        element.appendChild(docLink);\n",
              "      }\n",
              "    </script>\n",
              "  </div>\n",
              "\n",
              "\n",
              "<div id=\"df-f86dd809-5b59-47ad-89e8-eca928ab15ad\">\n",
              "  <button class=\"colab-df-quickchart\" onclick=\"quickchart('df-f86dd809-5b59-47ad-89e8-eca928ab15ad')\"\n",
              "            title=\"Suggest charts.\"\n",
              "            style=\"display:none;\">\n",
              "\n",
              "<svg xmlns=\"http://www.w3.org/2000/svg\" height=\"24px\"viewBox=\"0 0 24 24\"\n",
              "     width=\"24px\">\n",
              "    <g>\n",
              "        <path d=\"M19 3H5c-1.1 0-2 .9-2 2v14c0 1.1.9 2 2 2h14c1.1 0 2-.9 2-2V5c0-1.1-.9-2-2-2zM9 17H7v-7h2v7zm4 0h-2V7h2v10zm4 0h-2v-4h2v4z\"/>\n",
              "    </g>\n",
              "</svg>\n",
              "  </button>\n",
              "\n",
              "<style>\n",
              "  .colab-df-quickchart {\n",
              "      --bg-color: #E8F0FE;\n",
              "      --fill-color: #1967D2;\n",
              "      --hover-bg-color: #E2EBFA;\n",
              "      --hover-fill-color: #174EA6;\n",
              "      --disabled-fill-color: #AAA;\n",
              "      --disabled-bg-color: #DDD;\n",
              "  }\n",
              "\n",
              "  [theme=dark] .colab-df-quickchart {\n",
              "      --bg-color: #3B4455;\n",
              "      --fill-color: #D2E3FC;\n",
              "      --hover-bg-color: #434B5C;\n",
              "      --hover-fill-color: #FFFFFF;\n",
              "      --disabled-bg-color: #3B4455;\n",
              "      --disabled-fill-color: #666;\n",
              "  }\n",
              "\n",
              "  .colab-df-quickchart {\n",
              "    background-color: var(--bg-color);\n",
              "    border: none;\n",
              "    border-radius: 50%;\n",
              "    cursor: pointer;\n",
              "    display: none;\n",
              "    fill: var(--fill-color);\n",
              "    height: 32px;\n",
              "    padding: 0;\n",
              "    width: 32px;\n",
              "  }\n",
              "\n",
              "  .colab-df-quickchart:hover {\n",
              "    background-color: var(--hover-bg-color);\n",
              "    box-shadow: 0 1px 2px rgba(60, 64, 67, 0.3), 0 1px 3px 1px rgba(60, 64, 67, 0.15);\n",
              "    fill: var(--button-hover-fill-color);\n",
              "  }\n",
              "\n",
              "  .colab-df-quickchart-complete:disabled,\n",
              "  .colab-df-quickchart-complete:disabled:hover {\n",
              "    background-color: var(--disabled-bg-color);\n",
              "    fill: var(--disabled-fill-color);\n",
              "    box-shadow: none;\n",
              "  }\n",
              "\n",
              "  .colab-df-spinner {\n",
              "    border: 2px solid var(--fill-color);\n",
              "    border-color: transparent;\n",
              "    border-bottom-color: var(--fill-color);\n",
              "    animation:\n",
              "      spin 1s steps(1) infinite;\n",
              "  }\n",
              "\n",
              "  @keyframes spin {\n",
              "    0% {\n",
              "      border-color: transparent;\n",
              "      border-bottom-color: var(--fill-color);\n",
              "      border-left-color: var(--fill-color);\n",
              "    }\n",
              "    20% {\n",
              "      border-color: transparent;\n",
              "      border-left-color: var(--fill-color);\n",
              "      border-top-color: var(--fill-color);\n",
              "    }\n",
              "    30% {\n",
              "      border-color: transparent;\n",
              "      border-left-color: var(--fill-color);\n",
              "      border-top-color: var(--fill-color);\n",
              "      border-right-color: var(--fill-color);\n",
              "    }\n",
              "    40% {\n",
              "      border-color: transparent;\n",
              "      border-right-color: var(--fill-color);\n",
              "      border-top-color: var(--fill-color);\n",
              "    }\n",
              "    60% {\n",
              "      border-color: transparent;\n",
              "      border-right-color: var(--fill-color);\n",
              "    }\n",
              "    80% {\n",
              "      border-color: transparent;\n",
              "      border-right-color: var(--fill-color);\n",
              "      border-bottom-color: var(--fill-color);\n",
              "    }\n",
              "    90% {\n",
              "      border-color: transparent;\n",
              "      border-bottom-color: var(--fill-color);\n",
              "    }\n",
              "  }\n",
              "</style>\n",
              "\n",
              "  <script>\n",
              "    async function quickchart(key) {\n",
              "      const quickchartButtonEl =\n",
              "        document.querySelector('#' + key + ' button');\n",
              "      quickchartButtonEl.disabled = true;  // To prevent multiple clicks.\n",
              "      quickchartButtonEl.classList.add('colab-df-spinner');\n",
              "      try {\n",
              "        const charts = await google.colab.kernel.invokeFunction(\n",
              "            'suggestCharts', [key], {});\n",
              "      } catch (error) {\n",
              "        console.error('Error during call to suggestCharts:', error);\n",
              "      }\n",
              "      quickchartButtonEl.classList.remove('colab-df-spinner');\n",
              "      quickchartButtonEl.classList.add('colab-df-quickchart-complete');\n",
              "    }\n",
              "    (() => {\n",
              "      let quickchartButtonEl =\n",
              "        document.querySelector('#df-f86dd809-5b59-47ad-89e8-eca928ab15ad button');\n",
              "      quickchartButtonEl.style.display =\n",
              "        google.colab.kernel.accessAllowed ? 'block' : 'none';\n",
              "    })();\n",
              "  </script>\n",
              "</div>\n",
              "    </div>\n",
              "  </div>\n"
            ]
          },
          "metadata": {},
          "execution_count": 59
        }
      ]
    },
    {
      "cell_type": "code",
      "source": [
        "df_dl.columns"
      ],
      "metadata": {
        "colab": {
          "base_uri": "https://localhost:8080/"
        },
        "id": "-kBo_btGpp5-",
        "outputId": "d4f87d98-0d59-4750-c1d9-d90c21f3c0b2"
      },
      "execution_count": 60,
      "outputs": [
        {
          "output_type": "execute_result",
          "data": {
            "text/plain": [
              "Index(['Title', 'Age', 'description', 'websiteRef', 'Minor', 'LangPattern',\n",
              "       'Trafficked'],\n",
              "      dtype='object')"
            ]
          },
          "metadata": {},
          "execution_count": 60
        }
      ]
    },
    {
      "cell_type": "markdown",
      "source": [
        "#Transform Text to Numeric using NLP"
      ],
      "metadata": {
        "id": "dZ3nwD2wrn4a"
      }
    },
    {
      "cell_type": "code",
      "source": [
        "X= df_dl['description'].values\n",
        "y= df_dl['Trafficked'].values\n"
      ],
      "metadata": {
        "id": "bk3B_Cp3sKIL"
      },
      "execution_count": 61,
      "outputs": []
    },
    {
      "cell_type": "code",
      "source": [
        "bow_article =  CountVectorizer().fit(X)\n",
        "countVector = bow_article.get_feature_names_out()\n",
        "print(countVector)"
      ],
      "metadata": {
        "colab": {
          "base_uri": "https://localhost:8080/"
        },
        "id": "8btlQn0Fq_UD",
        "outputId": "7568bb55-4f69-4486-b79e-826970c26fa6"
      },
      "execution_count": 62,
      "outputs": [
        {
          "output_type": "stream",
          "name": "stdout",
          "text": [
            "['aadil' 'aarthireddy' 'able' ... 'yourself' 'yr' 'zoyalana']\n"
          ]
        }
      ]
    },
    {
      "cell_type": "code",
      "source": [
        "article_vec = bow_article.transform(X)\n",
        "countVectorArray = bow_article.get_feature_names_out()\n",
        "countVectorArray"
      ],
      "metadata": {
        "colab": {
          "base_uri": "https://localhost:8080/"
        },
        "id": "UD8WEXdrsQ41",
        "outputId": "d9a174b8-b18a-49e4-df02-6f82338c9829"
      },
      "execution_count": 63,
      "outputs": [
        {
          "output_type": "execute_result",
          "data": {
            "text/plain": [
              "array(['aadil', 'aarthireddy', 'able', ..., 'yourself', 'yr', 'zoyalana'],\n",
              "      dtype=object)"
            ]
          },
          "metadata": {},
          "execution_count": 63
        }
      ]
    },
    {
      "cell_type": "code",
      "source": [
        "#create dataframe for vocabulary\n",
        "df_bow=pd.DataFrame(article_vec.toarray(),columns=countVectorArray)\n",
        "print(df_bow)"
      ],
      "metadata": {
        "colab": {
          "base_uri": "https://localhost:8080/"
        },
        "id": "Xv5seTBEsYZl",
        "outputId": "221a43a7-5d4d-4c3e-b591-f1ec93c0fe0f"
      },
      "execution_count": 64,
      "outputs": [
        {
          "output_type": "stream",
          "name": "stdout",
          "text": [
            "     aadil  aarthireddy  able  about  above  ac  acceptance  accomadation  \\\n",
            "0        0            0     0      0      0   0           0             0   \n",
            "1        0            0     0      0      0   0           0             0   \n",
            "2        0            0     0      0      0   0           0             0   \n",
            "3        0            0     0      0      0   0           0             0   \n",
            "4        0            0     0      0      0   0           0             0   \n",
            "..     ...          ...   ...    ...    ...  ..         ...           ...   \n",
            "167      0            0     0      0      0   0           0             0   \n",
            "168      0            0     0      0      0   0           0             0   \n",
            "169      0            0     0      2      0   0           0             0   \n",
            "170      0            3     0      0      0   0           0             0   \n",
            "171      0            0     0      0      0   0           0             0   \n",
            "\n",
            "     accommodation  accomodate  ...  yer  yeshwantpur  you  youcall  young  \\\n",
            "0                0           0  ...    0            0    2        0      0   \n",
            "1                0           0  ...    0            0    1        0      0   \n",
            "2                0           0  ...    0            0    3        0      0   \n",
            "3                0           0  ...    0            0    0        0      0   \n",
            "4                0           0  ...    0            0    0        0      0   \n",
            "..             ...         ...  ...  ...          ...  ...      ...    ...   \n",
            "167              0           0  ...    0            0    0        0      0   \n",
            "168              0           0  ...    0            0    0        0      0   \n",
            "169              0           0  ...    0            0    1        0      0   \n",
            "170              0           0  ...    0            0    0        0      0   \n",
            "171              0           0  ...    0            0    0        0      0   \n",
            "\n",
            "     your  yours  yourself  yr  zoyalana  \n",
            "0       3      0         0   0         0  \n",
            "1       2      0         0   0         0  \n",
            "2       0      0         0   0         0  \n",
            "3       0      0         0   0         0  \n",
            "4       0      0         0   0         0  \n",
            "..    ...    ...       ...  ..       ...  \n",
            "167     0      0         0   0         0  \n",
            "168     0      0         0   0         0  \n",
            "169     0      0         0   0         0  \n",
            "170     0      0         0   0         0  \n",
            "171     0      0         0   0         0  \n",
            "\n",
            "[172 rows x 1411 columns]\n"
          ]
        }
      ]
    },
    {
      "cell_type": "code",
      "source": [
        "df_bow['Trafficked']=df_dl['Trafficked']"
      ],
      "metadata": {
        "id": "92z7npUos0Sq"
      },
      "execution_count": 65,
      "outputs": []
    },
    {
      "cell_type": "code",
      "source": [
        "df_bow.head(5)"
      ],
      "metadata": {
        "colab": {
          "base_uri": "https://localhost:8080/",
          "height": 255
        },
        "id": "wf8AAdlFsuQN",
        "outputId": "68c590e4-8010-4985-9520-cba24d89d0be"
      },
      "execution_count": 66,
      "outputs": [
        {
          "output_type": "execute_result",
          "data": {
            "text/plain": [
              "   aadil  aarthireddy  able  about  above  ac  acceptance  accomadation  \\\n",
              "0      0            0     0      0      0   0           0             0   \n",
              "1      0            0     0      0      0   0           0             0   \n",
              "2      0            0     0      0      0   0           0             0   \n",
              "3      0            0     0      0      0   0           0             0   \n",
              "4      0            0     0      0      0   0           0             0   \n",
              "\n",
              "   accommodation  accomodate  ...  yeshwantpur  you  youcall  young  your  \\\n",
              "0              0           0  ...            0    2        0      0     3   \n",
              "1              0           0  ...            0    1        0      0     2   \n",
              "2              0           0  ...            0    3        0      0     0   \n",
              "3              0           0  ...            0    0        0      0     0   \n",
              "4              0           0  ...            0    0        0      0     0   \n",
              "\n",
              "   yours  yourself  yr  zoyalana  Trafficked  \n",
              "0      0         0   0         0         1.0  \n",
              "1      0         0   0         0         0.0  \n",
              "2      0         0   0         0         1.0  \n",
              "3      0         0   0         0         0.0  \n",
              "4      0         0   0         0         NaN  \n",
              "\n",
              "[5 rows x 1412 columns]"
            ],
            "text/html": [
              "\n",
              "  <div id=\"df-0b20d815-f04a-4450-9e46-5868ed271566\" class=\"colab-df-container\">\n",
              "    <div>\n",
              "<style scoped>\n",
              "    .dataframe tbody tr th:only-of-type {\n",
              "        vertical-align: middle;\n",
              "    }\n",
              "\n",
              "    .dataframe tbody tr th {\n",
              "        vertical-align: top;\n",
              "    }\n",
              "\n",
              "    .dataframe thead th {\n",
              "        text-align: right;\n",
              "    }\n",
              "</style>\n",
              "<table border=\"1\" class=\"dataframe\">\n",
              "  <thead>\n",
              "    <tr style=\"text-align: right;\">\n",
              "      <th></th>\n",
              "      <th>aadil</th>\n",
              "      <th>aarthireddy</th>\n",
              "      <th>able</th>\n",
              "      <th>about</th>\n",
              "      <th>above</th>\n",
              "      <th>ac</th>\n",
              "      <th>acceptance</th>\n",
              "      <th>accomadation</th>\n",
              "      <th>accommodation</th>\n",
              "      <th>accomodate</th>\n",
              "      <th>...</th>\n",
              "      <th>yeshwantpur</th>\n",
              "      <th>you</th>\n",
              "      <th>youcall</th>\n",
              "      <th>young</th>\n",
              "      <th>your</th>\n",
              "      <th>yours</th>\n",
              "      <th>yourself</th>\n",
              "      <th>yr</th>\n",
              "      <th>zoyalana</th>\n",
              "      <th>Trafficked</th>\n",
              "    </tr>\n",
              "  </thead>\n",
              "  <tbody>\n",
              "    <tr>\n",
              "      <th>0</th>\n",
              "      <td>0</td>\n",
              "      <td>0</td>\n",
              "      <td>0</td>\n",
              "      <td>0</td>\n",
              "      <td>0</td>\n",
              "      <td>0</td>\n",
              "      <td>0</td>\n",
              "      <td>0</td>\n",
              "      <td>0</td>\n",
              "      <td>0</td>\n",
              "      <td>...</td>\n",
              "      <td>0</td>\n",
              "      <td>2</td>\n",
              "      <td>0</td>\n",
              "      <td>0</td>\n",
              "      <td>3</td>\n",
              "      <td>0</td>\n",
              "      <td>0</td>\n",
              "      <td>0</td>\n",
              "      <td>0</td>\n",
              "      <td>1.0</td>\n",
              "    </tr>\n",
              "    <tr>\n",
              "      <th>1</th>\n",
              "      <td>0</td>\n",
              "      <td>0</td>\n",
              "      <td>0</td>\n",
              "      <td>0</td>\n",
              "      <td>0</td>\n",
              "      <td>0</td>\n",
              "      <td>0</td>\n",
              "      <td>0</td>\n",
              "      <td>0</td>\n",
              "      <td>0</td>\n",
              "      <td>...</td>\n",
              "      <td>0</td>\n",
              "      <td>1</td>\n",
              "      <td>0</td>\n",
              "      <td>0</td>\n",
              "      <td>2</td>\n",
              "      <td>0</td>\n",
              "      <td>0</td>\n",
              "      <td>0</td>\n",
              "      <td>0</td>\n",
              "      <td>0.0</td>\n",
              "    </tr>\n",
              "    <tr>\n",
              "      <th>2</th>\n",
              "      <td>0</td>\n",
              "      <td>0</td>\n",
              "      <td>0</td>\n",
              "      <td>0</td>\n",
              "      <td>0</td>\n",
              "      <td>0</td>\n",
              "      <td>0</td>\n",
              "      <td>0</td>\n",
              "      <td>0</td>\n",
              "      <td>0</td>\n",
              "      <td>...</td>\n",
              "      <td>0</td>\n",
              "      <td>3</td>\n",
              "      <td>0</td>\n",
              "      <td>0</td>\n",
              "      <td>0</td>\n",
              "      <td>0</td>\n",
              "      <td>0</td>\n",
              "      <td>0</td>\n",
              "      <td>0</td>\n",
              "      <td>1.0</td>\n",
              "    </tr>\n",
              "    <tr>\n",
              "      <th>3</th>\n",
              "      <td>0</td>\n",
              "      <td>0</td>\n",
              "      <td>0</td>\n",
              "      <td>0</td>\n",
              "      <td>0</td>\n",
              "      <td>0</td>\n",
              "      <td>0</td>\n",
              "      <td>0</td>\n",
              "      <td>0</td>\n",
              "      <td>0</td>\n",
              "      <td>...</td>\n",
              "      <td>0</td>\n",
              "      <td>0</td>\n",
              "      <td>0</td>\n",
              "      <td>0</td>\n",
              "      <td>0</td>\n",
              "      <td>0</td>\n",
              "      <td>0</td>\n",
              "      <td>0</td>\n",
              "      <td>0</td>\n",
              "      <td>0.0</td>\n",
              "    </tr>\n",
              "    <tr>\n",
              "      <th>4</th>\n",
              "      <td>0</td>\n",
              "      <td>0</td>\n",
              "      <td>0</td>\n",
              "      <td>0</td>\n",
              "      <td>0</td>\n",
              "      <td>0</td>\n",
              "      <td>0</td>\n",
              "      <td>0</td>\n",
              "      <td>0</td>\n",
              "      <td>0</td>\n",
              "      <td>...</td>\n",
              "      <td>0</td>\n",
              "      <td>0</td>\n",
              "      <td>0</td>\n",
              "      <td>0</td>\n",
              "      <td>0</td>\n",
              "      <td>0</td>\n",
              "      <td>0</td>\n",
              "      <td>0</td>\n",
              "      <td>0</td>\n",
              "      <td>NaN</td>\n",
              "    </tr>\n",
              "  </tbody>\n",
              "</table>\n",
              "<p>5 rows × 1412 columns</p>\n",
              "</div>\n",
              "    <div class=\"colab-df-buttons\">\n",
              "\n",
              "  <div class=\"colab-df-container\">\n",
              "    <button class=\"colab-df-convert\" onclick=\"convertToInteractive('df-0b20d815-f04a-4450-9e46-5868ed271566')\"\n",
              "            title=\"Convert this dataframe to an interactive table.\"\n",
              "            style=\"display:none;\">\n",
              "\n",
              "  <svg xmlns=\"http://www.w3.org/2000/svg\" height=\"24px\" viewBox=\"0 -960 960 960\">\n",
              "    <path d=\"M120-120v-720h720v720H120Zm60-500h600v-160H180v160Zm220 220h160v-160H400v160Zm0 220h160v-160H400v160ZM180-400h160v-160H180v160Zm440 0h160v-160H620v160ZM180-180h160v-160H180v160Zm440 0h160v-160H620v160Z\"/>\n",
              "  </svg>\n",
              "    </button>\n",
              "\n",
              "  <style>\n",
              "    .colab-df-container {\n",
              "      display:flex;\n",
              "      gap: 12px;\n",
              "    }\n",
              "\n",
              "    .colab-df-convert {\n",
              "      background-color: #E8F0FE;\n",
              "      border: none;\n",
              "      border-radius: 50%;\n",
              "      cursor: pointer;\n",
              "      display: none;\n",
              "      fill: #1967D2;\n",
              "      height: 32px;\n",
              "      padding: 0 0 0 0;\n",
              "      width: 32px;\n",
              "    }\n",
              "\n",
              "    .colab-df-convert:hover {\n",
              "      background-color: #E2EBFA;\n",
              "      box-shadow: 0px 1px 2px rgba(60, 64, 67, 0.3), 0px 1px 3px 1px rgba(60, 64, 67, 0.15);\n",
              "      fill: #174EA6;\n",
              "    }\n",
              "\n",
              "    .colab-df-buttons div {\n",
              "      margin-bottom: 4px;\n",
              "    }\n",
              "\n",
              "    [theme=dark] .colab-df-convert {\n",
              "      background-color: #3B4455;\n",
              "      fill: #D2E3FC;\n",
              "    }\n",
              "\n",
              "    [theme=dark] .colab-df-convert:hover {\n",
              "      background-color: #434B5C;\n",
              "      box-shadow: 0px 1px 3px 1px rgba(0, 0, 0, 0.15);\n",
              "      filter: drop-shadow(0px 1px 2px rgba(0, 0, 0, 0.3));\n",
              "      fill: #FFFFFF;\n",
              "    }\n",
              "  </style>\n",
              "\n",
              "    <script>\n",
              "      const buttonEl =\n",
              "        document.querySelector('#df-0b20d815-f04a-4450-9e46-5868ed271566 button.colab-df-convert');\n",
              "      buttonEl.style.display =\n",
              "        google.colab.kernel.accessAllowed ? 'block' : 'none';\n",
              "\n",
              "      async function convertToInteractive(key) {\n",
              "        const element = document.querySelector('#df-0b20d815-f04a-4450-9e46-5868ed271566');\n",
              "        const dataTable =\n",
              "          await google.colab.kernel.invokeFunction('convertToInteractive',\n",
              "                                                    [key], {});\n",
              "        if (!dataTable) return;\n",
              "\n",
              "        const docLinkHtml = 'Like what you see? Visit the ' +\n",
              "          '<a target=\"_blank\" href=https://colab.research.google.com/notebooks/data_table.ipynb>data table notebook</a>'\n",
              "          + ' to learn more about interactive tables.';\n",
              "        element.innerHTML = '';\n",
              "        dataTable['output_type'] = 'display_data';\n",
              "        await google.colab.output.renderOutput(dataTable, element);\n",
              "        const docLink = document.createElement('div');\n",
              "        docLink.innerHTML = docLinkHtml;\n",
              "        element.appendChild(docLink);\n",
              "      }\n",
              "    </script>\n",
              "  </div>\n",
              "\n",
              "\n",
              "<div id=\"df-07e481ff-9c5b-4faf-a3f7-255e6c54a04c\">\n",
              "  <button class=\"colab-df-quickchart\" onclick=\"quickchart('df-07e481ff-9c5b-4faf-a3f7-255e6c54a04c')\"\n",
              "            title=\"Suggest charts.\"\n",
              "            style=\"display:none;\">\n",
              "\n",
              "<svg xmlns=\"http://www.w3.org/2000/svg\" height=\"24px\"viewBox=\"0 0 24 24\"\n",
              "     width=\"24px\">\n",
              "    <g>\n",
              "        <path d=\"M19 3H5c-1.1 0-2 .9-2 2v14c0 1.1.9 2 2 2h14c1.1 0 2-.9 2-2V5c0-1.1-.9-2-2-2zM9 17H7v-7h2v7zm4 0h-2V7h2v10zm4 0h-2v-4h2v4z\"/>\n",
              "    </g>\n",
              "</svg>\n",
              "  </button>\n",
              "\n",
              "<style>\n",
              "  .colab-df-quickchart {\n",
              "      --bg-color: #E8F0FE;\n",
              "      --fill-color: #1967D2;\n",
              "      --hover-bg-color: #E2EBFA;\n",
              "      --hover-fill-color: #174EA6;\n",
              "      --disabled-fill-color: #AAA;\n",
              "      --disabled-bg-color: #DDD;\n",
              "  }\n",
              "\n",
              "  [theme=dark] .colab-df-quickchart {\n",
              "      --bg-color: #3B4455;\n",
              "      --fill-color: #D2E3FC;\n",
              "      --hover-bg-color: #434B5C;\n",
              "      --hover-fill-color: #FFFFFF;\n",
              "      --disabled-bg-color: #3B4455;\n",
              "      --disabled-fill-color: #666;\n",
              "  }\n",
              "\n",
              "  .colab-df-quickchart {\n",
              "    background-color: var(--bg-color);\n",
              "    border: none;\n",
              "    border-radius: 50%;\n",
              "    cursor: pointer;\n",
              "    display: none;\n",
              "    fill: var(--fill-color);\n",
              "    height: 32px;\n",
              "    padding: 0;\n",
              "    width: 32px;\n",
              "  }\n",
              "\n",
              "  .colab-df-quickchart:hover {\n",
              "    background-color: var(--hover-bg-color);\n",
              "    box-shadow: 0 1px 2px rgba(60, 64, 67, 0.3), 0 1px 3px 1px rgba(60, 64, 67, 0.15);\n",
              "    fill: var(--button-hover-fill-color);\n",
              "  }\n",
              "\n",
              "  .colab-df-quickchart-complete:disabled,\n",
              "  .colab-df-quickchart-complete:disabled:hover {\n",
              "    background-color: var(--disabled-bg-color);\n",
              "    fill: var(--disabled-fill-color);\n",
              "    box-shadow: none;\n",
              "  }\n",
              "\n",
              "  .colab-df-spinner {\n",
              "    border: 2px solid var(--fill-color);\n",
              "    border-color: transparent;\n",
              "    border-bottom-color: var(--fill-color);\n",
              "    animation:\n",
              "      spin 1s steps(1) infinite;\n",
              "  }\n",
              "\n",
              "  @keyframes spin {\n",
              "    0% {\n",
              "      border-color: transparent;\n",
              "      border-bottom-color: var(--fill-color);\n",
              "      border-left-color: var(--fill-color);\n",
              "    }\n",
              "    20% {\n",
              "      border-color: transparent;\n",
              "      border-left-color: var(--fill-color);\n",
              "      border-top-color: var(--fill-color);\n",
              "    }\n",
              "    30% {\n",
              "      border-color: transparent;\n",
              "      border-left-color: var(--fill-color);\n",
              "      border-top-color: var(--fill-color);\n",
              "      border-right-color: var(--fill-color);\n",
              "    }\n",
              "    40% {\n",
              "      border-color: transparent;\n",
              "      border-right-color: var(--fill-color);\n",
              "      border-top-color: var(--fill-color);\n",
              "    }\n",
              "    60% {\n",
              "      border-color: transparent;\n",
              "      border-right-color: var(--fill-color);\n",
              "    }\n",
              "    80% {\n",
              "      border-color: transparent;\n",
              "      border-right-color: var(--fill-color);\n",
              "      border-bottom-color: var(--fill-color);\n",
              "    }\n",
              "    90% {\n",
              "      border-color: transparent;\n",
              "      border-bottom-color: var(--fill-color);\n",
              "    }\n",
              "  }\n",
              "</style>\n",
              "\n",
              "  <script>\n",
              "    async function quickchart(key) {\n",
              "      const quickchartButtonEl =\n",
              "        document.querySelector('#' + key + ' button');\n",
              "      quickchartButtonEl.disabled = true;  // To prevent multiple clicks.\n",
              "      quickchartButtonEl.classList.add('colab-df-spinner');\n",
              "      try {\n",
              "        const charts = await google.colab.kernel.invokeFunction(\n",
              "            'suggestCharts', [key], {});\n",
              "      } catch (error) {\n",
              "        console.error('Error during call to suggestCharts:', error);\n",
              "      }\n",
              "      quickchartButtonEl.classList.remove('colab-df-spinner');\n",
              "      quickchartButtonEl.classList.add('colab-df-quickchart-complete');\n",
              "    }\n",
              "    (() => {\n",
              "      let quickchartButtonEl =\n",
              "        document.querySelector('#df-07e481ff-9c5b-4faf-a3f7-255e6c54a04c button');\n",
              "      quickchartButtonEl.style.display =\n",
              "        google.colab.kernel.accessAllowed ? 'block' : 'none';\n",
              "    })();\n",
              "  </script>\n",
              "</div>\n",
              "    </div>\n",
              "  </div>\n"
            ]
          },
          "metadata": {},
          "execution_count": 66
        }
      ]
    },
    {
      "cell_type": "code",
      "source": [
        "df_bow = df_bow.dropna(how='any',axis=0)\n",
        "df_bow.head(3)"
      ],
      "metadata": {
        "colab": {
          "base_uri": "https://localhost:8080/",
          "height": 193
        },
        "id": "ZaRCdGKruU5r",
        "outputId": "f08a322d-f690-4111-d99b-a8e1b9c94000"
      },
      "execution_count": 67,
      "outputs": [
        {
          "output_type": "execute_result",
          "data": {
            "text/plain": [
              "   aadil  aarthireddy  able  about  above  ac  acceptance  accomadation  \\\n",
              "0      0            0     0      0      0   0           0             0   \n",
              "1      0            0     0      0      0   0           0             0   \n",
              "2      0            0     0      0      0   0           0             0   \n",
              "\n",
              "   accommodation  accomodate  ...  yeshwantpur  you  youcall  young  your  \\\n",
              "0              0           0  ...            0    2        0      0     3   \n",
              "1              0           0  ...            0    1        0      0     2   \n",
              "2              0           0  ...            0    3        0      0     0   \n",
              "\n",
              "   yours  yourself  yr  zoyalana  Trafficked  \n",
              "0      0         0   0         0         1.0  \n",
              "1      0         0   0         0         0.0  \n",
              "2      0         0   0         0         1.0  \n",
              "\n",
              "[3 rows x 1412 columns]"
            ],
            "text/html": [
              "\n",
              "  <div id=\"df-7ecd32d5-5500-41ef-aa55-96ab4567dbdd\" class=\"colab-df-container\">\n",
              "    <div>\n",
              "<style scoped>\n",
              "    .dataframe tbody tr th:only-of-type {\n",
              "        vertical-align: middle;\n",
              "    }\n",
              "\n",
              "    .dataframe tbody tr th {\n",
              "        vertical-align: top;\n",
              "    }\n",
              "\n",
              "    .dataframe thead th {\n",
              "        text-align: right;\n",
              "    }\n",
              "</style>\n",
              "<table border=\"1\" class=\"dataframe\">\n",
              "  <thead>\n",
              "    <tr style=\"text-align: right;\">\n",
              "      <th></th>\n",
              "      <th>aadil</th>\n",
              "      <th>aarthireddy</th>\n",
              "      <th>able</th>\n",
              "      <th>about</th>\n",
              "      <th>above</th>\n",
              "      <th>ac</th>\n",
              "      <th>acceptance</th>\n",
              "      <th>accomadation</th>\n",
              "      <th>accommodation</th>\n",
              "      <th>accomodate</th>\n",
              "      <th>...</th>\n",
              "      <th>yeshwantpur</th>\n",
              "      <th>you</th>\n",
              "      <th>youcall</th>\n",
              "      <th>young</th>\n",
              "      <th>your</th>\n",
              "      <th>yours</th>\n",
              "      <th>yourself</th>\n",
              "      <th>yr</th>\n",
              "      <th>zoyalana</th>\n",
              "      <th>Trafficked</th>\n",
              "    </tr>\n",
              "  </thead>\n",
              "  <tbody>\n",
              "    <tr>\n",
              "      <th>0</th>\n",
              "      <td>0</td>\n",
              "      <td>0</td>\n",
              "      <td>0</td>\n",
              "      <td>0</td>\n",
              "      <td>0</td>\n",
              "      <td>0</td>\n",
              "      <td>0</td>\n",
              "      <td>0</td>\n",
              "      <td>0</td>\n",
              "      <td>0</td>\n",
              "      <td>...</td>\n",
              "      <td>0</td>\n",
              "      <td>2</td>\n",
              "      <td>0</td>\n",
              "      <td>0</td>\n",
              "      <td>3</td>\n",
              "      <td>0</td>\n",
              "      <td>0</td>\n",
              "      <td>0</td>\n",
              "      <td>0</td>\n",
              "      <td>1.0</td>\n",
              "    </tr>\n",
              "    <tr>\n",
              "      <th>1</th>\n",
              "      <td>0</td>\n",
              "      <td>0</td>\n",
              "      <td>0</td>\n",
              "      <td>0</td>\n",
              "      <td>0</td>\n",
              "      <td>0</td>\n",
              "      <td>0</td>\n",
              "      <td>0</td>\n",
              "      <td>0</td>\n",
              "      <td>0</td>\n",
              "      <td>...</td>\n",
              "      <td>0</td>\n",
              "      <td>1</td>\n",
              "      <td>0</td>\n",
              "      <td>0</td>\n",
              "      <td>2</td>\n",
              "      <td>0</td>\n",
              "      <td>0</td>\n",
              "      <td>0</td>\n",
              "      <td>0</td>\n",
              "      <td>0.0</td>\n",
              "    </tr>\n",
              "    <tr>\n",
              "      <th>2</th>\n",
              "      <td>0</td>\n",
              "      <td>0</td>\n",
              "      <td>0</td>\n",
              "      <td>0</td>\n",
              "      <td>0</td>\n",
              "      <td>0</td>\n",
              "      <td>0</td>\n",
              "      <td>0</td>\n",
              "      <td>0</td>\n",
              "      <td>0</td>\n",
              "      <td>...</td>\n",
              "      <td>0</td>\n",
              "      <td>3</td>\n",
              "      <td>0</td>\n",
              "      <td>0</td>\n",
              "      <td>0</td>\n",
              "      <td>0</td>\n",
              "      <td>0</td>\n",
              "      <td>0</td>\n",
              "      <td>0</td>\n",
              "      <td>1.0</td>\n",
              "    </tr>\n",
              "  </tbody>\n",
              "</table>\n",
              "<p>3 rows × 1412 columns</p>\n",
              "</div>\n",
              "    <div class=\"colab-df-buttons\">\n",
              "\n",
              "  <div class=\"colab-df-container\">\n",
              "    <button class=\"colab-df-convert\" onclick=\"convertToInteractive('df-7ecd32d5-5500-41ef-aa55-96ab4567dbdd')\"\n",
              "            title=\"Convert this dataframe to an interactive table.\"\n",
              "            style=\"display:none;\">\n",
              "\n",
              "  <svg xmlns=\"http://www.w3.org/2000/svg\" height=\"24px\" viewBox=\"0 -960 960 960\">\n",
              "    <path d=\"M120-120v-720h720v720H120Zm60-500h600v-160H180v160Zm220 220h160v-160H400v160Zm0 220h160v-160H400v160ZM180-400h160v-160H180v160Zm440 0h160v-160H620v160ZM180-180h160v-160H180v160Zm440 0h160v-160H620v160Z\"/>\n",
              "  </svg>\n",
              "    </button>\n",
              "\n",
              "  <style>\n",
              "    .colab-df-container {\n",
              "      display:flex;\n",
              "      gap: 12px;\n",
              "    }\n",
              "\n",
              "    .colab-df-convert {\n",
              "      background-color: #E8F0FE;\n",
              "      border: none;\n",
              "      border-radius: 50%;\n",
              "      cursor: pointer;\n",
              "      display: none;\n",
              "      fill: #1967D2;\n",
              "      height: 32px;\n",
              "      padding: 0 0 0 0;\n",
              "      width: 32px;\n",
              "    }\n",
              "\n",
              "    .colab-df-convert:hover {\n",
              "      background-color: #E2EBFA;\n",
              "      box-shadow: 0px 1px 2px rgba(60, 64, 67, 0.3), 0px 1px 3px 1px rgba(60, 64, 67, 0.15);\n",
              "      fill: #174EA6;\n",
              "    }\n",
              "\n",
              "    .colab-df-buttons div {\n",
              "      margin-bottom: 4px;\n",
              "    }\n",
              "\n",
              "    [theme=dark] .colab-df-convert {\n",
              "      background-color: #3B4455;\n",
              "      fill: #D2E3FC;\n",
              "    }\n",
              "\n",
              "    [theme=dark] .colab-df-convert:hover {\n",
              "      background-color: #434B5C;\n",
              "      box-shadow: 0px 1px 3px 1px rgba(0, 0, 0, 0.15);\n",
              "      filter: drop-shadow(0px 1px 2px rgba(0, 0, 0, 0.3));\n",
              "      fill: #FFFFFF;\n",
              "    }\n",
              "  </style>\n",
              "\n",
              "    <script>\n",
              "      const buttonEl =\n",
              "        document.querySelector('#df-7ecd32d5-5500-41ef-aa55-96ab4567dbdd button.colab-df-convert');\n",
              "      buttonEl.style.display =\n",
              "        google.colab.kernel.accessAllowed ? 'block' : 'none';\n",
              "\n",
              "      async function convertToInteractive(key) {\n",
              "        const element = document.querySelector('#df-7ecd32d5-5500-41ef-aa55-96ab4567dbdd');\n",
              "        const dataTable =\n",
              "          await google.colab.kernel.invokeFunction('convertToInteractive',\n",
              "                                                    [key], {});\n",
              "        if (!dataTable) return;\n",
              "\n",
              "        const docLinkHtml = 'Like what you see? Visit the ' +\n",
              "          '<a target=\"_blank\" href=https://colab.research.google.com/notebooks/data_table.ipynb>data table notebook</a>'\n",
              "          + ' to learn more about interactive tables.';\n",
              "        element.innerHTML = '';\n",
              "        dataTable['output_type'] = 'display_data';\n",
              "        await google.colab.output.renderOutput(dataTable, element);\n",
              "        const docLink = document.createElement('div');\n",
              "        docLink.innerHTML = docLinkHtml;\n",
              "        element.appendChild(docLink);\n",
              "      }\n",
              "    </script>\n",
              "  </div>\n",
              "\n",
              "\n",
              "<div id=\"df-0ed25271-0210-4044-a709-0c91ac42058d\">\n",
              "  <button class=\"colab-df-quickchart\" onclick=\"quickchart('df-0ed25271-0210-4044-a709-0c91ac42058d')\"\n",
              "            title=\"Suggest charts.\"\n",
              "            style=\"display:none;\">\n",
              "\n",
              "<svg xmlns=\"http://www.w3.org/2000/svg\" height=\"24px\"viewBox=\"0 0 24 24\"\n",
              "     width=\"24px\">\n",
              "    <g>\n",
              "        <path d=\"M19 3H5c-1.1 0-2 .9-2 2v14c0 1.1.9 2 2 2h14c1.1 0 2-.9 2-2V5c0-1.1-.9-2-2-2zM9 17H7v-7h2v7zm4 0h-2V7h2v10zm4 0h-2v-4h2v4z\"/>\n",
              "    </g>\n",
              "</svg>\n",
              "  </button>\n",
              "\n",
              "<style>\n",
              "  .colab-df-quickchart {\n",
              "      --bg-color: #E8F0FE;\n",
              "      --fill-color: #1967D2;\n",
              "      --hover-bg-color: #E2EBFA;\n",
              "      --hover-fill-color: #174EA6;\n",
              "      --disabled-fill-color: #AAA;\n",
              "      --disabled-bg-color: #DDD;\n",
              "  }\n",
              "\n",
              "  [theme=dark] .colab-df-quickchart {\n",
              "      --bg-color: #3B4455;\n",
              "      --fill-color: #D2E3FC;\n",
              "      --hover-bg-color: #434B5C;\n",
              "      --hover-fill-color: #FFFFFF;\n",
              "      --disabled-bg-color: #3B4455;\n",
              "      --disabled-fill-color: #666;\n",
              "  }\n",
              "\n",
              "  .colab-df-quickchart {\n",
              "    background-color: var(--bg-color);\n",
              "    border: none;\n",
              "    border-radius: 50%;\n",
              "    cursor: pointer;\n",
              "    display: none;\n",
              "    fill: var(--fill-color);\n",
              "    height: 32px;\n",
              "    padding: 0;\n",
              "    width: 32px;\n",
              "  }\n",
              "\n",
              "  .colab-df-quickchart:hover {\n",
              "    background-color: var(--hover-bg-color);\n",
              "    box-shadow: 0 1px 2px rgba(60, 64, 67, 0.3), 0 1px 3px 1px rgba(60, 64, 67, 0.15);\n",
              "    fill: var(--button-hover-fill-color);\n",
              "  }\n",
              "\n",
              "  .colab-df-quickchart-complete:disabled,\n",
              "  .colab-df-quickchart-complete:disabled:hover {\n",
              "    background-color: var(--disabled-bg-color);\n",
              "    fill: var(--disabled-fill-color);\n",
              "    box-shadow: none;\n",
              "  }\n",
              "\n",
              "  .colab-df-spinner {\n",
              "    border: 2px solid var(--fill-color);\n",
              "    border-color: transparent;\n",
              "    border-bottom-color: var(--fill-color);\n",
              "    animation:\n",
              "      spin 1s steps(1) infinite;\n",
              "  }\n",
              "\n",
              "  @keyframes spin {\n",
              "    0% {\n",
              "      border-color: transparent;\n",
              "      border-bottom-color: var(--fill-color);\n",
              "      border-left-color: var(--fill-color);\n",
              "    }\n",
              "    20% {\n",
              "      border-color: transparent;\n",
              "      border-left-color: var(--fill-color);\n",
              "      border-top-color: var(--fill-color);\n",
              "    }\n",
              "    30% {\n",
              "      border-color: transparent;\n",
              "      border-left-color: var(--fill-color);\n",
              "      border-top-color: var(--fill-color);\n",
              "      border-right-color: var(--fill-color);\n",
              "    }\n",
              "    40% {\n",
              "      border-color: transparent;\n",
              "      border-right-color: var(--fill-color);\n",
              "      border-top-color: var(--fill-color);\n",
              "    }\n",
              "    60% {\n",
              "      border-color: transparent;\n",
              "      border-right-color: var(--fill-color);\n",
              "    }\n",
              "    80% {\n",
              "      border-color: transparent;\n",
              "      border-right-color: var(--fill-color);\n",
              "      border-bottom-color: var(--fill-color);\n",
              "    }\n",
              "    90% {\n",
              "      border-color: transparent;\n",
              "      border-bottom-color: var(--fill-color);\n",
              "    }\n",
              "  }\n",
              "</style>\n",
              "\n",
              "  <script>\n",
              "    async function quickchart(key) {\n",
              "      const quickchartButtonEl =\n",
              "        document.querySelector('#' + key + ' button');\n",
              "      quickchartButtonEl.disabled = true;  // To prevent multiple clicks.\n",
              "      quickchartButtonEl.classList.add('colab-df-spinner');\n",
              "      try {\n",
              "        const charts = await google.colab.kernel.invokeFunction(\n",
              "            'suggestCharts', [key], {});\n",
              "      } catch (error) {\n",
              "        console.error('Error during call to suggestCharts:', error);\n",
              "      }\n",
              "      quickchartButtonEl.classList.remove('colab-df-spinner');\n",
              "      quickchartButtonEl.classList.add('colab-df-quickchart-complete');\n",
              "    }\n",
              "    (() => {\n",
              "      let quickchartButtonEl =\n",
              "        document.querySelector('#df-0ed25271-0210-4044-a709-0c91ac42058d button');\n",
              "      quickchartButtonEl.style.display =\n",
              "        google.colab.kernel.accessAllowed ? 'block' : 'none';\n",
              "    })();\n",
              "  </script>\n",
              "</div>\n",
              "    </div>\n",
              "  </div>\n"
            ]
          },
          "metadata": {},
          "execution_count": 67
        }
      ]
    },
    {
      "cell_type": "code",
      "source": [
        "df_bow.to_csv(\"HumanTrafficking_ANN_Dataset.csv\")"
      ],
      "metadata": {
        "id": "N_Qc5t5ttvgj"
      },
      "execution_count": 68,
      "outputs": []
    },
    {
      "cell_type": "markdown",
      "source": [
        "# **Data Loading**\n",
        "\n",
        "---"
      ],
      "metadata": {
        "id": "0IehnjYCpYJp"
      }
    },
    {
      "cell_type": "code",
      "source": [
        "device = \"cuda\" if torch.cuda.is_available() else \"cpu\"\n",
        "device"
      ],
      "metadata": {
        "colab": {
          "base_uri": "https://localhost:8080/",
          "height": 36
        },
        "id": "G7OfKpuvuG8j",
        "outputId": "ed2615c9-2e91-4d95-90d9-fac0325dca91"
      },
      "execution_count": 69,
      "outputs": [
        {
          "output_type": "execute_result",
          "data": {
            "text/plain": [
              "'cpu'"
            ],
            "application/vnd.google.colaboratory.intrinsic+json": {
              "type": "string"
            }
          },
          "metadata": {},
          "execution_count": 69
        }
      ]
    },
    {
      "cell_type": "code",
      "source": [
        "df_bow.shape"
      ],
      "metadata": {
        "colab": {
          "base_uri": "https://localhost:8080/"
        },
        "id": "iA1M-s6zu9_j",
        "outputId": "8b3f8ac5-feef-4781-90ff-94619e44014b"
      },
      "execution_count": 70,
      "outputs": [
        {
          "output_type": "execute_result",
          "data": {
            "text/plain": [
              "(146, 1412)"
            ]
          },
          "metadata": {},
          "execution_count": 70
        }
      ]
    },
    {
      "cell_type": "code",
      "source": [
        "df_X=df_bow.drop(['Trafficked'],axis=1)\n",
        "df_y=df_bow.iloc[:,-1]"
      ],
      "metadata": {
        "id": "dASqteU6vcSE"
      },
      "execution_count": 71,
      "outputs": []
    },
    {
      "cell_type": "code",
      "source": [
        "df_y\n"
      ],
      "metadata": {
        "colab": {
          "base_uri": "https://localhost:8080/"
        },
        "id": "nQ-R8iGyviTN",
        "outputId": "2aa1c311-f7c1-4fab-a598-d3beaea88a97"
      },
      "execution_count": 72,
      "outputs": [
        {
          "output_type": "execute_result",
          "data": {
            "text/plain": [
              "0      1.0\n",
              "1      0.0\n",
              "2      1.0\n",
              "3      0.0\n",
              "5      0.0\n",
              "      ... \n",
              "164    0.0\n",
              "165    0.0\n",
              "169    1.0\n",
              "170    1.0\n",
              "171    0.0\n",
              "Name: Trafficked, Length: 146, dtype: float64"
            ]
          },
          "metadata": {},
          "execution_count": 72
        }
      ]
    },
    {
      "cell_type": "markdown",
      "source": [
        "# CLASS BALANCE"
      ],
      "metadata": {
        "id": "J1tWsPLgv1Sc"
      }
    },
    {
      "cell_type": "code",
      "source": [
        "from imblearn.over_sampling import SMOTE\n",
        "oversample = SMOTE()\n",
        "X, y = oversample.fit_resample(df_X, df_y)"
      ],
      "metadata": {
        "id": "h-HqpCTnv0rb"
      },
      "execution_count": 73,
      "outputs": []
    },
    {
      "cell_type": "code",
      "source": [
        "X.shape"
      ],
      "metadata": {
        "colab": {
          "base_uri": "https://localhost:8080/"
        },
        "id": "mMaAh-GXv6fz",
        "outputId": "75dd4087-80d7-4761-bc7d-c5a13969c6d2"
      },
      "execution_count": 74,
      "outputs": [
        {
          "output_type": "execute_result",
          "data": {
            "text/plain": [
              "(174, 1411)"
            ]
          },
          "metadata": {},
          "execution_count": 74
        }
      ]
    },
    {
      "cell_type": "code",
      "source": [
        "X"
      ],
      "metadata": {
        "colab": {
          "base_uri": "https://localhost:8080/",
          "height": 443
        },
        "id": "59B8txjjwVLd",
        "outputId": "0ac9cfa8-dc23-4d69-edb7-178b003697d4"
      },
      "execution_count": 75,
      "outputs": [
        {
          "output_type": "execute_result",
          "data": {
            "text/plain": [
              "     aadil  aarthireddy  able  about  above  ac  acceptance  accomadation  \\\n",
              "0        0            0     0      0      0   0           0             0   \n",
              "1        0            0     0      0      0   0           0             0   \n",
              "2        0            0     0      0      0   0           0             0   \n",
              "3        0            0     0      0      0   0           0             0   \n",
              "4        0            0     0      1      0   0           0             0   \n",
              "..     ...          ...   ...    ...    ...  ..         ...           ...   \n",
              "169      0            0     0      0      0   0           0             0   \n",
              "170      0            0     0      0      0   0           0             0   \n",
              "171      0            0     0      0      0   0           0             0   \n",
              "172      0            0     0      0      0   0           0             0   \n",
              "173      0            0     0      0      0   0           0             0   \n",
              "\n",
              "     accommodation  accomodate  ...  yer  yeshwantpur  you  youcall  young  \\\n",
              "0                0           0  ...    0            0    2        0      0   \n",
              "1                0           0  ...    0            0    1        0      0   \n",
              "2                0           0  ...    0            0    3        0      0   \n",
              "3                0           0  ...    0            0    0        0      0   \n",
              "4                0           0  ...    0            0    3        0      0   \n",
              "..             ...         ...  ...  ...          ...  ...      ...    ...   \n",
              "169              0           0  ...    0            0    0        0      0   \n",
              "170              0           0  ...    0            0    0        0      0   \n",
              "171              0           0  ...    0            0    0        0      0   \n",
              "172              0           0  ...    0            0    0        0      0   \n",
              "173              0           0  ...    0            0    0        0      0   \n",
              "\n",
              "     your  yours  yourself  yr  zoyalana  \n",
              "0       3      0         0   0         0  \n",
              "1       2      0         0   0         0  \n",
              "2       0      0         0   0         0  \n",
              "3       0      0         0   0         0  \n",
              "4       0      0         0   0         0  \n",
              "..    ...    ...       ...  ..       ...  \n",
              "169     0      0         0   0         0  \n",
              "170     0      0         0   0         0  \n",
              "171     0      0         0   0         0  \n",
              "172     0      0         0   0         0  \n",
              "173     0      0         0   0         0  \n",
              "\n",
              "[174 rows x 1411 columns]"
            ],
            "text/html": [
              "\n",
              "  <div id=\"df-78e32af5-7886-45d0-b66e-ca08e3789c88\" class=\"colab-df-container\">\n",
              "    <div>\n",
              "<style scoped>\n",
              "    .dataframe tbody tr th:only-of-type {\n",
              "        vertical-align: middle;\n",
              "    }\n",
              "\n",
              "    .dataframe tbody tr th {\n",
              "        vertical-align: top;\n",
              "    }\n",
              "\n",
              "    .dataframe thead th {\n",
              "        text-align: right;\n",
              "    }\n",
              "</style>\n",
              "<table border=\"1\" class=\"dataframe\">\n",
              "  <thead>\n",
              "    <tr style=\"text-align: right;\">\n",
              "      <th></th>\n",
              "      <th>aadil</th>\n",
              "      <th>aarthireddy</th>\n",
              "      <th>able</th>\n",
              "      <th>about</th>\n",
              "      <th>above</th>\n",
              "      <th>ac</th>\n",
              "      <th>acceptance</th>\n",
              "      <th>accomadation</th>\n",
              "      <th>accommodation</th>\n",
              "      <th>accomodate</th>\n",
              "      <th>...</th>\n",
              "      <th>yer</th>\n",
              "      <th>yeshwantpur</th>\n",
              "      <th>you</th>\n",
              "      <th>youcall</th>\n",
              "      <th>young</th>\n",
              "      <th>your</th>\n",
              "      <th>yours</th>\n",
              "      <th>yourself</th>\n",
              "      <th>yr</th>\n",
              "      <th>zoyalana</th>\n",
              "    </tr>\n",
              "  </thead>\n",
              "  <tbody>\n",
              "    <tr>\n",
              "      <th>0</th>\n",
              "      <td>0</td>\n",
              "      <td>0</td>\n",
              "      <td>0</td>\n",
              "      <td>0</td>\n",
              "      <td>0</td>\n",
              "      <td>0</td>\n",
              "      <td>0</td>\n",
              "      <td>0</td>\n",
              "      <td>0</td>\n",
              "      <td>0</td>\n",
              "      <td>...</td>\n",
              "      <td>0</td>\n",
              "      <td>0</td>\n",
              "      <td>2</td>\n",
              "      <td>0</td>\n",
              "      <td>0</td>\n",
              "      <td>3</td>\n",
              "      <td>0</td>\n",
              "      <td>0</td>\n",
              "      <td>0</td>\n",
              "      <td>0</td>\n",
              "    </tr>\n",
              "    <tr>\n",
              "      <th>1</th>\n",
              "      <td>0</td>\n",
              "      <td>0</td>\n",
              "      <td>0</td>\n",
              "      <td>0</td>\n",
              "      <td>0</td>\n",
              "      <td>0</td>\n",
              "      <td>0</td>\n",
              "      <td>0</td>\n",
              "      <td>0</td>\n",
              "      <td>0</td>\n",
              "      <td>...</td>\n",
              "      <td>0</td>\n",
              "      <td>0</td>\n",
              "      <td>1</td>\n",
              "      <td>0</td>\n",
              "      <td>0</td>\n",
              "      <td>2</td>\n",
              "      <td>0</td>\n",
              "      <td>0</td>\n",
              "      <td>0</td>\n",
              "      <td>0</td>\n",
              "    </tr>\n",
              "    <tr>\n",
              "      <th>2</th>\n",
              "      <td>0</td>\n",
              "      <td>0</td>\n",
              "      <td>0</td>\n",
              "      <td>0</td>\n",
              "      <td>0</td>\n",
              "      <td>0</td>\n",
              "      <td>0</td>\n",
              "      <td>0</td>\n",
              "      <td>0</td>\n",
              "      <td>0</td>\n",
              "      <td>...</td>\n",
              "      <td>0</td>\n",
              "      <td>0</td>\n",
              "      <td>3</td>\n",
              "      <td>0</td>\n",
              "      <td>0</td>\n",
              "      <td>0</td>\n",
              "      <td>0</td>\n",
              "      <td>0</td>\n",
              "      <td>0</td>\n",
              "      <td>0</td>\n",
              "    </tr>\n",
              "    <tr>\n",
              "      <th>3</th>\n",
              "      <td>0</td>\n",
              "      <td>0</td>\n",
              "      <td>0</td>\n",
              "      <td>0</td>\n",
              "      <td>0</td>\n",
              "      <td>0</td>\n",
              "      <td>0</td>\n",
              "      <td>0</td>\n",
              "      <td>0</td>\n",
              "      <td>0</td>\n",
              "      <td>...</td>\n",
              "      <td>0</td>\n",
              "      <td>0</td>\n",
              "      <td>0</td>\n",
              "      <td>0</td>\n",
              "      <td>0</td>\n",
              "      <td>0</td>\n",
              "      <td>0</td>\n",
              "      <td>0</td>\n",
              "      <td>0</td>\n",
              "      <td>0</td>\n",
              "    </tr>\n",
              "    <tr>\n",
              "      <th>4</th>\n",
              "      <td>0</td>\n",
              "      <td>0</td>\n",
              "      <td>0</td>\n",
              "      <td>1</td>\n",
              "      <td>0</td>\n",
              "      <td>0</td>\n",
              "      <td>0</td>\n",
              "      <td>0</td>\n",
              "      <td>0</td>\n",
              "      <td>0</td>\n",
              "      <td>...</td>\n",
              "      <td>0</td>\n",
              "      <td>0</td>\n",
              "      <td>3</td>\n",
              "      <td>0</td>\n",
              "      <td>0</td>\n",
              "      <td>0</td>\n",
              "      <td>0</td>\n",
              "      <td>0</td>\n",
              "      <td>0</td>\n",
              "      <td>0</td>\n",
              "    </tr>\n",
              "    <tr>\n",
              "      <th>...</th>\n",
              "      <td>...</td>\n",
              "      <td>...</td>\n",
              "      <td>...</td>\n",
              "      <td>...</td>\n",
              "      <td>...</td>\n",
              "      <td>...</td>\n",
              "      <td>...</td>\n",
              "      <td>...</td>\n",
              "      <td>...</td>\n",
              "      <td>...</td>\n",
              "      <td>...</td>\n",
              "      <td>...</td>\n",
              "      <td>...</td>\n",
              "      <td>...</td>\n",
              "      <td>...</td>\n",
              "      <td>...</td>\n",
              "      <td>...</td>\n",
              "      <td>...</td>\n",
              "      <td>...</td>\n",
              "      <td>...</td>\n",
              "      <td>...</td>\n",
              "    </tr>\n",
              "    <tr>\n",
              "      <th>169</th>\n",
              "      <td>0</td>\n",
              "      <td>0</td>\n",
              "      <td>0</td>\n",
              "      <td>0</td>\n",
              "      <td>0</td>\n",
              "      <td>0</td>\n",
              "      <td>0</td>\n",
              "      <td>0</td>\n",
              "      <td>0</td>\n",
              "      <td>0</td>\n",
              "      <td>...</td>\n",
              "      <td>0</td>\n",
              "      <td>0</td>\n",
              "      <td>0</td>\n",
              "      <td>0</td>\n",
              "      <td>0</td>\n",
              "      <td>0</td>\n",
              "      <td>0</td>\n",
              "      <td>0</td>\n",
              "      <td>0</td>\n",
              "      <td>0</td>\n",
              "    </tr>\n",
              "    <tr>\n",
              "      <th>170</th>\n",
              "      <td>0</td>\n",
              "      <td>0</td>\n",
              "      <td>0</td>\n",
              "      <td>0</td>\n",
              "      <td>0</td>\n",
              "      <td>0</td>\n",
              "      <td>0</td>\n",
              "      <td>0</td>\n",
              "      <td>0</td>\n",
              "      <td>0</td>\n",
              "      <td>...</td>\n",
              "      <td>0</td>\n",
              "      <td>0</td>\n",
              "      <td>0</td>\n",
              "      <td>0</td>\n",
              "      <td>0</td>\n",
              "      <td>0</td>\n",
              "      <td>0</td>\n",
              "      <td>0</td>\n",
              "      <td>0</td>\n",
              "      <td>0</td>\n",
              "    </tr>\n",
              "    <tr>\n",
              "      <th>171</th>\n",
              "      <td>0</td>\n",
              "      <td>0</td>\n",
              "      <td>0</td>\n",
              "      <td>0</td>\n",
              "      <td>0</td>\n",
              "      <td>0</td>\n",
              "      <td>0</td>\n",
              "      <td>0</td>\n",
              "      <td>0</td>\n",
              "      <td>0</td>\n",
              "      <td>...</td>\n",
              "      <td>0</td>\n",
              "      <td>0</td>\n",
              "      <td>0</td>\n",
              "      <td>0</td>\n",
              "      <td>0</td>\n",
              "      <td>0</td>\n",
              "      <td>0</td>\n",
              "      <td>0</td>\n",
              "      <td>0</td>\n",
              "      <td>0</td>\n",
              "    </tr>\n",
              "    <tr>\n",
              "      <th>172</th>\n",
              "      <td>0</td>\n",
              "      <td>0</td>\n",
              "      <td>0</td>\n",
              "      <td>0</td>\n",
              "      <td>0</td>\n",
              "      <td>0</td>\n",
              "      <td>0</td>\n",
              "      <td>0</td>\n",
              "      <td>0</td>\n",
              "      <td>0</td>\n",
              "      <td>...</td>\n",
              "      <td>0</td>\n",
              "      <td>0</td>\n",
              "      <td>0</td>\n",
              "      <td>0</td>\n",
              "      <td>0</td>\n",
              "      <td>0</td>\n",
              "      <td>0</td>\n",
              "      <td>0</td>\n",
              "      <td>0</td>\n",
              "      <td>0</td>\n",
              "    </tr>\n",
              "    <tr>\n",
              "      <th>173</th>\n",
              "      <td>0</td>\n",
              "      <td>0</td>\n",
              "      <td>0</td>\n",
              "      <td>0</td>\n",
              "      <td>0</td>\n",
              "      <td>0</td>\n",
              "      <td>0</td>\n",
              "      <td>0</td>\n",
              "      <td>0</td>\n",
              "      <td>0</td>\n",
              "      <td>...</td>\n",
              "      <td>0</td>\n",
              "      <td>0</td>\n",
              "      <td>0</td>\n",
              "      <td>0</td>\n",
              "      <td>0</td>\n",
              "      <td>0</td>\n",
              "      <td>0</td>\n",
              "      <td>0</td>\n",
              "      <td>0</td>\n",
              "      <td>0</td>\n",
              "    </tr>\n",
              "  </tbody>\n",
              "</table>\n",
              "<p>174 rows × 1411 columns</p>\n",
              "</div>\n",
              "    <div class=\"colab-df-buttons\">\n",
              "\n",
              "  <div class=\"colab-df-container\">\n",
              "    <button class=\"colab-df-convert\" onclick=\"convertToInteractive('df-78e32af5-7886-45d0-b66e-ca08e3789c88')\"\n",
              "            title=\"Convert this dataframe to an interactive table.\"\n",
              "            style=\"display:none;\">\n",
              "\n",
              "  <svg xmlns=\"http://www.w3.org/2000/svg\" height=\"24px\" viewBox=\"0 -960 960 960\">\n",
              "    <path d=\"M120-120v-720h720v720H120Zm60-500h600v-160H180v160Zm220 220h160v-160H400v160Zm0 220h160v-160H400v160ZM180-400h160v-160H180v160Zm440 0h160v-160H620v160ZM180-180h160v-160H180v160Zm440 0h160v-160H620v160Z\"/>\n",
              "  </svg>\n",
              "    </button>\n",
              "\n",
              "  <style>\n",
              "    .colab-df-container {\n",
              "      display:flex;\n",
              "      gap: 12px;\n",
              "    }\n",
              "\n",
              "    .colab-df-convert {\n",
              "      background-color: #E8F0FE;\n",
              "      border: none;\n",
              "      border-radius: 50%;\n",
              "      cursor: pointer;\n",
              "      display: none;\n",
              "      fill: #1967D2;\n",
              "      height: 32px;\n",
              "      padding: 0 0 0 0;\n",
              "      width: 32px;\n",
              "    }\n",
              "\n",
              "    .colab-df-convert:hover {\n",
              "      background-color: #E2EBFA;\n",
              "      box-shadow: 0px 1px 2px rgba(60, 64, 67, 0.3), 0px 1px 3px 1px rgba(60, 64, 67, 0.15);\n",
              "      fill: #174EA6;\n",
              "    }\n",
              "\n",
              "    .colab-df-buttons div {\n",
              "      margin-bottom: 4px;\n",
              "    }\n",
              "\n",
              "    [theme=dark] .colab-df-convert {\n",
              "      background-color: #3B4455;\n",
              "      fill: #D2E3FC;\n",
              "    }\n",
              "\n",
              "    [theme=dark] .colab-df-convert:hover {\n",
              "      background-color: #434B5C;\n",
              "      box-shadow: 0px 1px 3px 1px rgba(0, 0, 0, 0.15);\n",
              "      filter: drop-shadow(0px 1px 2px rgba(0, 0, 0, 0.3));\n",
              "      fill: #FFFFFF;\n",
              "    }\n",
              "  </style>\n",
              "\n",
              "    <script>\n",
              "      const buttonEl =\n",
              "        document.querySelector('#df-78e32af5-7886-45d0-b66e-ca08e3789c88 button.colab-df-convert');\n",
              "      buttonEl.style.display =\n",
              "        google.colab.kernel.accessAllowed ? 'block' : 'none';\n",
              "\n",
              "      async function convertToInteractive(key) {\n",
              "        const element = document.querySelector('#df-78e32af5-7886-45d0-b66e-ca08e3789c88');\n",
              "        const dataTable =\n",
              "          await google.colab.kernel.invokeFunction('convertToInteractive',\n",
              "                                                    [key], {});\n",
              "        if (!dataTable) return;\n",
              "\n",
              "        const docLinkHtml = 'Like what you see? Visit the ' +\n",
              "          '<a target=\"_blank\" href=https://colab.research.google.com/notebooks/data_table.ipynb>data table notebook</a>'\n",
              "          + ' to learn more about interactive tables.';\n",
              "        element.innerHTML = '';\n",
              "        dataTable['output_type'] = 'display_data';\n",
              "        await google.colab.output.renderOutput(dataTable, element);\n",
              "        const docLink = document.createElement('div');\n",
              "        docLink.innerHTML = docLinkHtml;\n",
              "        element.appendChild(docLink);\n",
              "      }\n",
              "    </script>\n",
              "  </div>\n",
              "\n",
              "\n",
              "<div id=\"df-f2673c83-8bbc-4763-98a7-72d159c87018\">\n",
              "  <button class=\"colab-df-quickchart\" onclick=\"quickchart('df-f2673c83-8bbc-4763-98a7-72d159c87018')\"\n",
              "            title=\"Suggest charts.\"\n",
              "            style=\"display:none;\">\n",
              "\n",
              "<svg xmlns=\"http://www.w3.org/2000/svg\" height=\"24px\"viewBox=\"0 0 24 24\"\n",
              "     width=\"24px\">\n",
              "    <g>\n",
              "        <path d=\"M19 3H5c-1.1 0-2 .9-2 2v14c0 1.1.9 2 2 2h14c1.1 0 2-.9 2-2V5c0-1.1-.9-2-2-2zM9 17H7v-7h2v7zm4 0h-2V7h2v10zm4 0h-2v-4h2v4z\"/>\n",
              "    </g>\n",
              "</svg>\n",
              "  </button>\n",
              "\n",
              "<style>\n",
              "  .colab-df-quickchart {\n",
              "      --bg-color: #E8F0FE;\n",
              "      --fill-color: #1967D2;\n",
              "      --hover-bg-color: #E2EBFA;\n",
              "      --hover-fill-color: #174EA6;\n",
              "      --disabled-fill-color: #AAA;\n",
              "      --disabled-bg-color: #DDD;\n",
              "  }\n",
              "\n",
              "  [theme=dark] .colab-df-quickchart {\n",
              "      --bg-color: #3B4455;\n",
              "      --fill-color: #D2E3FC;\n",
              "      --hover-bg-color: #434B5C;\n",
              "      --hover-fill-color: #FFFFFF;\n",
              "      --disabled-bg-color: #3B4455;\n",
              "      --disabled-fill-color: #666;\n",
              "  }\n",
              "\n",
              "  .colab-df-quickchart {\n",
              "    background-color: var(--bg-color);\n",
              "    border: none;\n",
              "    border-radius: 50%;\n",
              "    cursor: pointer;\n",
              "    display: none;\n",
              "    fill: var(--fill-color);\n",
              "    height: 32px;\n",
              "    padding: 0;\n",
              "    width: 32px;\n",
              "  }\n",
              "\n",
              "  .colab-df-quickchart:hover {\n",
              "    background-color: var(--hover-bg-color);\n",
              "    box-shadow: 0 1px 2px rgba(60, 64, 67, 0.3), 0 1px 3px 1px rgba(60, 64, 67, 0.15);\n",
              "    fill: var(--button-hover-fill-color);\n",
              "  }\n",
              "\n",
              "  .colab-df-quickchart-complete:disabled,\n",
              "  .colab-df-quickchart-complete:disabled:hover {\n",
              "    background-color: var(--disabled-bg-color);\n",
              "    fill: var(--disabled-fill-color);\n",
              "    box-shadow: none;\n",
              "  }\n",
              "\n",
              "  .colab-df-spinner {\n",
              "    border: 2px solid var(--fill-color);\n",
              "    border-color: transparent;\n",
              "    border-bottom-color: var(--fill-color);\n",
              "    animation:\n",
              "      spin 1s steps(1) infinite;\n",
              "  }\n",
              "\n",
              "  @keyframes spin {\n",
              "    0% {\n",
              "      border-color: transparent;\n",
              "      border-bottom-color: var(--fill-color);\n",
              "      border-left-color: var(--fill-color);\n",
              "    }\n",
              "    20% {\n",
              "      border-color: transparent;\n",
              "      border-left-color: var(--fill-color);\n",
              "      border-top-color: var(--fill-color);\n",
              "    }\n",
              "    30% {\n",
              "      border-color: transparent;\n",
              "      border-left-color: var(--fill-color);\n",
              "      border-top-color: var(--fill-color);\n",
              "      border-right-color: var(--fill-color);\n",
              "    }\n",
              "    40% {\n",
              "      border-color: transparent;\n",
              "      border-right-color: var(--fill-color);\n",
              "      border-top-color: var(--fill-color);\n",
              "    }\n",
              "    60% {\n",
              "      border-color: transparent;\n",
              "      border-right-color: var(--fill-color);\n",
              "    }\n",
              "    80% {\n",
              "      border-color: transparent;\n",
              "      border-right-color: var(--fill-color);\n",
              "      border-bottom-color: var(--fill-color);\n",
              "    }\n",
              "    90% {\n",
              "      border-color: transparent;\n",
              "      border-bottom-color: var(--fill-color);\n",
              "    }\n",
              "  }\n",
              "</style>\n",
              "\n",
              "  <script>\n",
              "    async function quickchart(key) {\n",
              "      const quickchartButtonEl =\n",
              "        document.querySelector('#' + key + ' button');\n",
              "      quickchartButtonEl.disabled = true;  // To prevent multiple clicks.\n",
              "      quickchartButtonEl.classList.add('colab-df-spinner');\n",
              "      try {\n",
              "        const charts = await google.colab.kernel.invokeFunction(\n",
              "            'suggestCharts', [key], {});\n",
              "      } catch (error) {\n",
              "        console.error('Error during call to suggestCharts:', error);\n",
              "      }\n",
              "      quickchartButtonEl.classList.remove('colab-df-spinner');\n",
              "      quickchartButtonEl.classList.add('colab-df-quickchart-complete');\n",
              "    }\n",
              "    (() => {\n",
              "      let quickchartButtonEl =\n",
              "        document.querySelector('#df-f2673c83-8bbc-4763-98a7-72d159c87018 button');\n",
              "      quickchartButtonEl.style.display =\n",
              "        google.colab.kernel.accessAllowed ? 'block' : 'none';\n",
              "    })();\n",
              "  </script>\n",
              "</div>\n",
              "    </div>\n",
              "  </div>\n"
            ]
          },
          "metadata": {},
          "execution_count": 75
        }
      ]
    },
    {
      "cell_type": "code",
      "source": [
        "import torch.utils.data as data_utils\n",
        "X = torch.from_numpy(X.to_numpy()).type(torch.float)\n",
        "y = torch.from_numpy(y.to_numpy()).type(torch.float)"
      ],
      "metadata": {
        "id": "Zxf5TiU6wE_E"
      },
      "execution_count": 76,
      "outputs": []
    },
    {
      "cell_type": "code",
      "source": [
        "\n",
        "X.shape[0]"
      ],
      "metadata": {
        "colab": {
          "base_uri": "https://localhost:8080/"
        },
        "id": "etDM6fcZwltU",
        "outputId": "037dff11-8bb5-4758-84b0-42bdac1dab82"
      },
      "execution_count": 77,
      "outputs": [
        {
          "output_type": "execute_result",
          "data": {
            "text/plain": [
              "174"
            ]
          },
          "metadata": {},
          "execution_count": 77
        }
      ]
    },
    {
      "cell_type": "code",
      "source": [
        "from sklearn.model_selection import train_test_split\n",
        "# split into train test sets\n",
        "X_train, X_test, y_train, y_test = train_test_split(X, y, test_size=0.20, random_state=42)\n",
        "print(X_train.shape, X_test.shape, y_train.shape, y_test.shape)"
      ],
      "metadata": {
        "colab": {
          "base_uri": "https://localhost:8080/"
        },
        "id": "GSESbYaAwurU",
        "outputId": "ac0abc64-207f-4dc9-c561-cdb8f1baddab"
      },
      "execution_count": 78,
      "outputs": [
        {
          "output_type": "stream",
          "name": "stdout",
          "text": [
            "torch.Size([139, 1411]) torch.Size([35, 1411]) torch.Size([139]) torch.Size([35])\n"
          ]
        }
      ]
    },
    {
      "cell_type": "markdown",
      "source": [
        "# **Building a model**"
      ],
      "metadata": {
        "id": "6hdbhxlYwx-Q"
      }
    },
    {
      "cell_type": "markdown",
      "source": [
        "# **Model 0**\n",
        "\n",
        "---"
      ],
      "metadata": {
        "id": "vKKWpes2w3p_"
      }
    },
    {
      "cell_type": "code",
      "source": [
        "class BiModelV0(nn.Module):\n",
        "    def __init__(self):\n",
        "        super().__init__()\n",
        "        # 2. Create 2 nn.Linear layers capable of handling X and y input and output shapes\n",
        "        self.layer_1 = nn.Linear(in_features=X.shape[1], out_features=5) # takes in 2 features (X), produces 5 features\n",
        "        self.layer_2 = nn.Linear(in_features=5, out_features=1) # takes in 5 features, produces 1 feature (y)\n",
        "\n",
        "    # 3. Define a forward method containing the forward pass computation\n",
        "    def forward(self, x):\n",
        "        # Return the output of layer_2, a single feature, the same shape as y\n",
        "        return self.layer_2(self.layer_1(x)) # computation goes through layer_1 first then the output of layer_1 goes through layer_2\n",
        "\n",
        "# 4. Create an instance of the model and send it to target device\n",
        "model_0 = BiModelV0().to(device)\n",
        "model_0"
      ],
      "metadata": {
        "colab": {
          "base_uri": "https://localhost:8080/"
        },
        "id": "i2oA3kD5w0mr",
        "outputId": "ae5ffee8-f12d-4d84-e609-28be077139e6"
      },
      "execution_count": 79,
      "outputs": [
        {
          "output_type": "execute_result",
          "data": {
            "text/plain": [
              "BiModelV0(\n",
              "  (layer_1): Linear(in_features=1411, out_features=5, bias=True)\n",
              "  (layer_2): Linear(in_features=5, out_features=1, bias=True)\n",
              ")"
            ]
          },
          "metadata": {},
          "execution_count": 79
        }
      ]
    },
    {
      "cell_type": "markdown",
      "source": [
        "**Prediction WITHOUT Training**"
      ],
      "metadata": {
        "id": "DRq8P9wSw8_M"
      }
    },
    {
      "cell_type": "code",
      "source": [
        "untrained_preds = model_0(X_test.to(device))\n",
        "print(f\"\\nFirst 10 predictions:\\n{untrained_preds[:10]}\") #untrained_pred is y_test_cap\n",
        "print(f\"\\nFirst 10 test labels:\\n{y_test[:10]}\")"
      ],
      "metadata": {
        "colab": {
          "base_uri": "https://localhost:8080/"
        },
        "id": "b-Eq_3bKw7hT",
        "outputId": "3b4ae716-0fe1-4cc5-cf06-2b53cb5d079e"
      },
      "execution_count": 80,
      "outputs": [
        {
          "output_type": "stream",
          "name": "stdout",
          "text": [
            "\n",
            "First 10 predictions:\n",
            "tensor([[-0.0453],\n",
            "        [ 0.1007],\n",
            "        [ 0.0408],\n",
            "        [ 0.8966],\n",
            "        [ 0.0448],\n",
            "        [ 0.0247],\n",
            "        [-0.0525],\n",
            "        [ 0.0878],\n",
            "        [ 0.1907],\n",
            "        [ 0.0042]], grad_fn=<SliceBackward0>)\n",
            "\n",
            "First 10 test labels:\n",
            "tensor([1., 1., 0., 0., 0., 0., 0., 1., 0., 1.])\n"
          ]
        }
      ]
    },
    {
      "cell_type": "code",
      "source": [
        "# Create a loss function\n",
        "loss_fn = nn.BCEWithLogitsLoss() # BCEWithLogitsLoss = sigmoid built-in\n",
        "\n",
        "# Create an optimizer\n",
        "optimizer = torch.optim.SGD(params=model_0.parameters(),\n",
        "                            lr=0.01)"
      ],
      "metadata": {
        "id": "mdwOV9qcxDsj"
      },
      "execution_count": 81,
      "outputs": []
    },
    {
      "cell_type": "code",
      "source": [
        "# Calculate accuracy (a classification metric)\n",
        "def accuracy_fn(y_true, y_pred):\n",
        "    correct = torch.eq(y_true, y_pred).sum().item() # torch.eq() calculates where two tensors are equal\n",
        "    acc = (correct / len(y_pred)) * 100\n",
        "    return acc"
      ],
      "metadata": {
        "id": "V740IO_axGN0"
      },
      "execution_count": 82,
      "outputs": []
    },
    {
      "cell_type": "code",
      "source": [
        "#Function to plot learning curve\n",
        "def draw_curve(y_loss_val,y_loss_train,y_acc_val,y_acc_train):\n",
        "  fig=plt.figure(figsize=(10,5))\n",
        "  ax0 = fig.add_subplot(121, title=\"Training and Validation Loss\")\n",
        "  ax1 = fig.add_subplot(122, title=\"Training and Validation Accuracy\")\n",
        "\n",
        "  ax0.plot(y_loss_val,label=\"val\")\n",
        "  ax0.plot(y_loss_train,label=\"train\")\n",
        "  ax0.set_xlabel('Epoch')\n",
        "  ax0.set_ylabel('Loss')\n",
        "\n",
        "  ax1.plot(y_acc_val,label=\"val\")\n",
        "  ax1.plot(y_acc_train,label=\"train\")\n",
        "  ax1.set_xlabel('Epoch')\n",
        "  ax1.set_ylabel('Accuracy')\n",
        "\n",
        "  plt.legend()\n",
        "  plt.show()"
      ],
      "metadata": {
        "id": "-K6E3sNtxJhc"
      },
      "execution_count": 83,
      "outputs": []
    },
    {
      "cell_type": "code",
      "source": [],
      "metadata": {
        "id": "YDXG7u8XCt6X"
      },
      "execution_count": 83,
      "outputs": []
    },
    {
      "cell_type": "markdown",
      "source": [
        "# Model Training and Validation"
      ],
      "metadata": {
        "id": "_WZ77cPqxM_8"
      }
    },
    {
      "cell_type": "code",
      "source": [
        "torch.manual_seed(42)\n",
        "\n",
        "# Set the number of epochs\n",
        "epochs = 50\n",
        "#initial for Plotting\n",
        "y_loss_train = []\n",
        "y_loss_val = []\n",
        "y_acc_train = []\n",
        "y_acc_val = []\n",
        "\n",
        "# Put data to target device\n",
        "X_train, y_train = X_train.to(device), y_train.to(device)\n",
        "X_test, y_test = X_test.to(device), y_test.to(device)\n",
        "\n",
        "\n",
        "# Build training and evaluation loop\n",
        "for epoch in range(epochs):\n",
        "    ### Training\n",
        "    model_0.train()\n",
        "\n",
        "    # 1. Forward pass (model outputs raw logits)\n",
        "    y_logits = model_0(X_train).squeeze() # squeeze to remove extra `1` dimensions, this won't work unless model and data are on same device\n",
        "    y_pred = torch.round(torch.sigmoid(y_logits)) # turn logits -> pred probs -> pred labls\n",
        "\n",
        "    # 2. Calculate loss/accuracy\n",
        "\n",
        "    loss = loss_fn(y_logits, # Using nn.BCEWithLogitsLoss works with raw logits\n",
        "                   y_train)\n",
        "    acc = accuracy_fn(y_true=y_train,\n",
        "                      y_pred=y_pred)\n",
        "    y_loss_train.append(loss.item())\n",
        "    y_acc_train.append(acc)\n",
        "\n",
        "\n",
        "    # 3. Optimizer zero grad\n",
        "    optimizer.zero_grad()\n",
        "\n",
        "    # 4. Loss backwards\n",
        "    loss.backward()\n",
        "\n",
        "    # 5. Optimizer step\n",
        "    optimizer.step()\n",
        "\n",
        "    ### Testing\n",
        "    model_0.eval()\n",
        "    with torch.inference_mode():\n",
        "        # 1. Forward pass\n",
        "        test_logits = model_0(X_test).squeeze()\n",
        "        test_pred = torch.round(torch.sigmoid(test_logits))\n",
        "        # 2. Caculate loss/accuracy\n",
        "        test_loss = loss_fn(test_logits,\n",
        "                            y_test)\n",
        "        test_acc = accuracy_fn(y_true=y_test,\n",
        "                               y_pred=test_pred)\n",
        "        y_loss_val.append(test_loss.item())\n",
        "        y_acc_val.append(test_acc)\n",
        "\n",
        "\n",
        "    # Print out what's happening every 10 epochs\n",
        "    if epoch % 2 == 0:\n",
        "        print(f\"Epoch: {epoch} | Loss: {loss:.5f}, Accuracy: {acc:.2f}% | Test loss: {test_loss:.5f}, Test acc: {test_acc:.2f}%\")"
      ],
      "metadata": {
        "colab": {
          "base_uri": "https://localhost:8080/"
        },
        "id": "Wnxw9I5ixNvW",
        "outputId": "3fa9cedf-0cde-41be-fa6f-34ea8a09adbf"
      },
      "execution_count": 84,
      "outputs": [
        {
          "output_type": "stream",
          "name": "stdout",
          "text": [
            "Epoch: 0 | Loss: 0.71079, Accuracy: 36.69% | Test loss: 0.64441, Test acc: 68.57%\n",
            "Epoch: 2 | Loss: 1.00963, Accuracy: 49.64% | Test loss: 0.63338, Test acc: 68.57%\n",
            "Epoch: 4 | Loss: 0.74133, Accuracy: 44.60% | Test loss: 0.63163, Test acc: 68.57%\n",
            "Epoch: 6 | Loss: 0.70202, Accuracy: 43.88% | Test loss: 1.04919, Test acc: 31.43%\n",
            "Epoch: 8 | Loss: 1.15354, Accuracy: 48.92% | Test loss: 0.78468, Test acc: 25.71%\n",
            "Epoch: 10 | Loss: 1.24578, Accuracy: 48.92% | Test loss: 0.68540, Test acc: 40.00%\n",
            "Epoch: 12 | Loss: 1.09485, Accuracy: 54.68% | Test loss: 0.65480, Test acc: 71.43%\n",
            "Epoch: 14 | Loss: 0.86086, Accuracy: 51.08% | Test loss: 0.64412, Test acc: 68.57%\n",
            "Epoch: 16 | Loss: 0.69157, Accuracy: 46.76% | Test loss: 0.67303, Test acc: 48.57%\n",
            "Epoch: 18 | Loss: 1.07327, Accuracy: 56.12% | Test loss: 0.65886, Test acc: 62.86%\n",
            "Epoch: 20 | Loss: 0.86703, Accuracy: 52.52% | Test loss: 0.64876, Test acc: 65.71%\n",
            "Epoch: 22 | Loss: 0.70276, Accuracy: 53.24% | Test loss: 0.65560, Test acc: 71.43%\n",
            "Epoch: 24 | Loss: 0.77760, Accuracy: 49.64% | Test loss: 0.64775, Test acc: 65.71%\n",
            "Epoch: 26 | Loss: 0.68678, Accuracy: 55.40% | Test loss: 0.74518, Test acc: 37.14%\n",
            "Epoch: 28 | Loss: 0.96830, Accuracy: 55.40% | Test loss: 0.72783, Test acc: 42.86%\n",
            "Epoch: 30 | Loss: 0.89879, Accuracy: 53.24% | Test loss: 0.79611, Test acc: 34.29%\n",
            "Epoch: 32 | Loss: 0.97222, Accuracy: 55.40% | Test loss: 0.69593, Test acc: 51.43%\n",
            "Epoch: 34 | Loss: 0.68553, Accuracy: 56.83% | Test loss: 0.77426, Test acc: 37.14%\n",
            "Epoch: 36 | Loss: 0.94941, Accuracy: 57.55% | Test loss: 0.69837, Test acc: 48.57%\n",
            "Epoch: 38 | Loss: 0.70255, Accuracy: 57.55% | Test loss: 0.92399, Test acc: 37.14%\n",
            "Epoch: 40 | Loss: 0.84822, Accuracy: 54.68% | Test loss: 0.78373, Test acc: 42.86%\n",
            "Epoch: 42 | Loss: 0.90566, Accuracy: 57.55% | Test loss: 0.70176, Test acc: 48.57%\n",
            "Epoch: 44 | Loss: 0.72965, Accuracy: 55.40% | Test loss: 0.89844, Test acc: 31.43%\n",
            "Epoch: 46 | Loss: 0.81769, Accuracy: 55.40% | Test loss: 0.77561, Test acc: 42.86%\n",
            "Epoch: 48 | Loss: 0.86486, Accuracy: 58.27% | Test loss: 0.70657, Test acc: 48.57%\n"
          ]
        }
      ]
    },
    {
      "cell_type": "code",
      "source": [
        "draw_curve(y_loss_val,y_loss_train,y_acc_val,y_acc_train)"
      ],
      "metadata": {
        "colab": {
          "base_uri": "https://localhost:8080/",
          "height": 487
        },
        "id": "ZTVBFS_hxddG",
        "outputId": "a922d83a-a45f-46a9-af9e-c7797ae8d489"
      },
      "execution_count": 85,
      "outputs": [
        {
          "output_type": "display_data",
          "data": {
            "text/plain": [
              "<Figure size 1000x500 with 2 Axes>"
            ],
            "image/png": "[encoded data removed]"
          },
          "metadata": {}
        }
      ]
    },
    {
      "cell_type": "code",
      "source": [
        "model_0.eval()\n",
        "with torch.inference_mode():\n",
        "    y_preds = torch.round(torch.sigmoid(model_0(X_test))).squeeze()\n",
        "y_preds[:10], y[:10] # want preds in same format as truth labels"
      ],
      "metadata": {
        "colab": {
          "base_uri": "https://localhost:8080/"
        },
        "id": "O4L5rkeExjNr",
        "outputId": "201f7ebc-f872-416c-d46c-89a3896e0c2f"
      },
      "execution_count": 86,
      "outputs": [
        {
          "output_type": "execute_result",
          "data": {
            "text/plain": [
              "(tensor([1., 1., 0., 0., 0., 0., 1., 1., 1., 1.]),\n",
              " tensor([1., 0., 1., 0., 0., 1., 0., 0., 1., 0.]))"
            ]
          },
          "metadata": {},
          "execution_count": 86
        }
      ]
    },
    {
      "cell_type": "code",
      "source": [
        "from sklearn.metrics import accuracy_score, confusion_matrix, classification_report\n",
        "print(\"Confusion Matrix: Test Data\")\n",
        "conf_matrix=metrics.confusion_matrix(y_test, y_preds)\n",
        "print(metrics.confusion_matrix(y_test, y_preds))"
      ],
      "metadata": {
        "colab": {
          "base_uri": "https://localhost:8080/"
        },
        "id": "oXMNVHe5aShW",
        "outputId": "54a60ebe-9a4a-4e0d-b8ec-ad93ffacbf91"
      },
      "execution_count": 87,
      "outputs": [
        {
          "output_type": "stream",
          "name": "stdout",
          "text": [
            "Confusion Matrix: Test Data\n",
            "[[11 12]\n",
            " [ 6  6]]\n"
          ]
        }
      ]
    },
    {
      "cell_type": "code",
      "source": [
        "#classification report -\n",
        "print(\"Classification Report:\")\n",
        "print(metrics.classification_report(y_test, y_preds, target_names=['0', '1']))"
      ],
      "metadata": {
        "colab": {
          "base_uri": "https://localhost:8080/"
        },
        "id": "V_Du4upYAeMr",
        "outputId": "2ae923f5-85e1-4565-d430-ea2b90cb6d8e"
      },
      "execution_count": 88,
      "outputs": [
        {
          "output_type": "stream",
          "name": "stdout",
          "text": [
            "Classification Report:\n",
            "              precision    recall  f1-score   support\n",
            "\n",
            "           0       0.65      0.48      0.55        23\n",
            "           1       0.33      0.50      0.40        12\n",
            "\n",
            "    accuracy                           0.49        35\n",
            "   macro avg       0.49      0.49      0.48        35\n",
            "weighted avg       0.54      0.49      0.50        35\n",
            "\n"
          ]
        }
      ]
    },
    {
      "cell_type": "code",
      "source": [
        "from sklearn.metrics import ConfusionMatrixDisplay\n",
        "\n",
        "# Change figure size and increase dpi for better resolution\n",
        "# and get reference to axes object\n",
        "fig, ax = plt.subplots(figsize=(8,6), dpi=100)\n",
        "\n",
        "# initialize using the raw 2D confusion matrix\n",
        "# and output labels (in our case, it's 0 and 1)\n",
        "display = ConfusionMatrixDisplay(conf_matrix)\n",
        "\n",
        "# set the plot title using the axes object\n",
        "ax.set(title='Confusion Matrix for the Trafficking Detection ANN Model 0')\n",
        "\n",
        "# show the plot.\n",
        "# Pass the parameter ax to show customizations (ex. title)\n",
        "display.plot(ax=ax);"
      ],
      "metadata": {
        "colab": {
          "base_uri": "https://localhost:8080/",
          "height": 564
        },
        "id": "NoR9mnTBa4KG",
        "outputId": "7e66b89d-0d11-42cb-eac2-0d76d34ce124"
      },
      "execution_count": 89,
      "outputs": [
        {
          "output_type": "display_data",
          "data": {
            "text/plain": [
              "<Figure size 800x600 with 2 Axes>"
            ],
            "image/png": "[encoded data removed]"
          },
          "metadata": {}
        }
      ]
    },
    {
      "cell_type": "markdown",
      "source": [
        "# **Improve the Model**\n",
        "\n",
        "---\n"
      ],
      "metadata": {
        "id": "sRCMSzUuyUqM"
      }
    },
    {
      "cell_type": "markdown",
      "source": [
        "# **Model 1**:Increase the Layers\n",
        "\n",
        "---\n"
      ],
      "metadata": {
        "id": "pTnwkq0ryZbY"
      }
    },
    {
      "cell_type": "code",
      "source": [
        "class BiModelV1(nn.Module):\n",
        "    def __init__(self):\n",
        "        super().__init__()\n",
        "        self.layer_1 = nn.Linear(in_features=X.shape[1], out_features=10)\n",
        "        self.layer_2 = nn.Linear(in_features=10, out_features=5) # extra 1 layer\n",
        "        self.layer_3 = nn.Linear(in_features=5, out_features=5)# extra 2  layer\n",
        "        self.layer_4 = nn.Linear(in_features=5, out_features=1)\n",
        "\n",
        "\n",
        "    def forward(self, x):\n",
        "      return self.layer_4((self.layer_2(self.layer_1(x))))\n",
        "\n",
        "model_1 = BiModelV1().to(device)\n",
        "model_1"
      ],
      "metadata": {
        "colab": {
          "base_uri": "https://localhost:8080/"
        },
        "id": "NOexwBNfyUCM",
        "outputId": "4ae735c7-dff2-4d11-de1a-75d4fec10eca"
      },
      "execution_count": 90,
      "outputs": [
        {
          "output_type": "execute_result",
          "data": {
            "text/plain": [
              "BiModelV1(\n",
              "  (layer_1): Linear(in_features=1411, out_features=10, bias=True)\n",
              "  (layer_2): Linear(in_features=10, out_features=5, bias=True)\n",
              "  (layer_3): Linear(in_features=5, out_features=5, bias=True)\n",
              "  (layer_4): Linear(in_features=5, out_features=1, bias=True)\n",
              ")"
            ]
          },
          "metadata": {},
          "execution_count": 90
        }
      ]
    },
    {
      "cell_type": "code",
      "source": [
        "torch.manual_seed(42)\n",
        "\n",
        "epochs = 50 # Train\n",
        "\n",
        "#initial for Plotting\n",
        "y_loss_train = []\n",
        "y_loss_val = []\n",
        "y_acc_train = []\n",
        "y_acc_val = []\n",
        "\n",
        "# Put data to target device\n",
        "X_train, y_train = X_train.to(device), y_train.to(device)\n",
        "X_test, y_test = X_test.to(device), y_test.to(device)\n",
        "\n",
        "for epoch in range(epochs):\n",
        "    ### Training\n",
        "    # 1. Forward pass\n",
        "    y_logits = model_1(X_train).squeeze()\n",
        "    y_pred = torch.round(torch.sigmoid(y_logits)) # logits -> predicition probabilities -> prediction labels\n",
        "\n",
        "    # 2. Calculate loss/accuracy\n",
        "    loss = loss_fn(y_logits, y_train)\n",
        "    acc = accuracy_fn(y_true=y_train,\n",
        "                      y_pred=y_pred)\n",
        "    # Capture for Plotting\n",
        "    y_loss_train.append(loss.item())\n",
        "    y_acc_train.append(acc)\n",
        "    # 3. Optimizer zero grad\n",
        "    optimizer.zero_grad()\n",
        "\n",
        "    # 4. Loss backwards\n",
        "    loss.backward()\n",
        "\n",
        "    # 5. Optimizer step\n",
        "    optimizer.step()\n",
        "\n",
        "    ### Testing\n",
        "    model_1.eval()\n",
        "    with torch.inference_mode():\n",
        "        # 1. Forward pass\n",
        "        test_logits = model_1(X_test).squeeze()\n",
        "        test_pred = torch.round(torch.sigmoid(test_logits))\n",
        "        # 2. Caculate loss/accuracy\n",
        "        test_loss_1 = loss_fn(test_logits,\n",
        "                            y_test)\n",
        "        test_acc_1 = accuracy_fn(y_true=y_test,\n",
        "                               y_pred=test_pred)\n",
        "        ### Test Acccuracy\n",
        "        y_loss_val.append(test_loss_1.item())\n",
        "        y_acc_val.append(test_acc_1)\n",
        "    # Print out what's happening every 10 epochs\n",
        "    if epoch % 2 == 0:\n",
        "        print(f\"Epoch: {epoch} | Loss: {loss:.5f}, Accuracy: {acc:.2f}% | Test loss: {test_loss_1:.5f}, Test acc: {test_acc_1:.2f}%\")"
      ],
      "metadata": {
        "colab": {
          "base_uri": "https://localhost:8080/"
        },
        "id": "ctSQKY0dyjg8",
        "outputId": "4a4284cf-0c48-4823-c7ca-692244e428ba"
      },
      "execution_count": 91,
      "outputs": [
        {
          "output_type": "stream",
          "name": "stdout",
          "text": [
            "Epoch: 0 | Loss: 0.75312, Accuracy: 46.04% | Test loss: 0.65517, Test acc: 62.86%\n",
            "Epoch: 2 | Loss: 0.75312, Accuracy: 46.04% | Test loss: 0.65517, Test acc: 62.86%\n",
            "Epoch: 4 | Loss: 0.75312, Accuracy: 46.04% | Test loss: 0.65517, Test acc: 62.86%\n",
            "Epoch: 6 | Loss: 0.75312, Accuracy: 46.04% | Test loss: 0.65517, Test acc: 62.86%\n",
            "Epoch: 8 | Loss: 0.75312, Accuracy: 46.04% | Test loss: 0.65517, Test acc: 62.86%\n",
            "Epoch: 10 | Loss: 0.75312, Accuracy: 46.04% | Test loss: 0.65517, Test acc: 62.86%\n",
            "Epoch: 12 | Loss: 0.75312, Accuracy: 46.04% | Test loss: 0.65517, Test acc: 62.86%\n",
            "Epoch: 14 | Loss: 0.75312, Accuracy: 46.04% | Test loss: 0.65517, Test acc: 62.86%\n",
            "Epoch: 16 | Loss: 0.75312, Accuracy: 46.04% | Test loss: 0.65517, Test acc: 62.86%\n",
            "Epoch: 18 | Loss: 0.75312, Accuracy: 46.04% | Test loss: 0.65517, Test acc: 62.86%\n",
            "Epoch: 20 | Loss: 0.75312, Accuracy: 46.04% | Test loss: 0.65517, Test acc: 62.86%\n",
            "Epoch: 22 | Loss: 0.75312, Accuracy: 46.04% | Test loss: 0.65517, Test acc: 62.86%\n",
            "Epoch: 24 | Loss: 0.75312, Accuracy: 46.04% | Test loss: 0.65517, Test acc: 62.86%\n",
            "Epoch: 26 | Loss: 0.75312, Accuracy: 46.04% | Test loss: 0.65517, Test acc: 62.86%\n",
            "Epoch: 28 | Loss: 0.75312, Accuracy: 46.04% | Test loss: 0.65517, Test acc: 62.86%\n",
            "Epoch: 30 | Loss: 0.75312, Accuracy: 46.04% | Test loss: 0.65517, Test acc: 62.86%\n",
            "Epoch: 32 | Loss: 0.75312, Accuracy: 46.04% | Test loss: 0.65517, Test acc: 62.86%\n",
            "Epoch: 34 | Loss: 0.75312, Accuracy: 46.04% | Test loss: 0.65517, Test acc: 62.86%\n",
            "Epoch: 36 | Loss: 0.75312, Accuracy: 46.04% | Test loss: 0.65517, Test acc: 62.86%\n",
            "Epoch: 38 | Loss: 0.75312, Accuracy: 46.04% | Test loss: 0.65517, Test acc: 62.86%\n",
            "Epoch: 40 | Loss: 0.75312, Accuracy: 46.04% | Test loss: 0.65517, Test acc: 62.86%\n",
            "Epoch: 42 | Loss: 0.75312, Accuracy: 46.04% | Test loss: 0.65517, Test acc: 62.86%\n",
            "Epoch: 44 | Loss: 0.75312, Accuracy: 46.04% | Test loss: 0.65517, Test acc: 62.86%\n",
            "Epoch: 46 | Loss: 0.75312, Accuracy: 46.04% | Test loss: 0.65517, Test acc: 62.86%\n",
            "Epoch: 48 | Loss: 0.75312, Accuracy: 46.04% | Test loss: 0.65517, Test acc: 62.86%\n"
          ]
        }
      ]
    },
    {
      "cell_type": "code",
      "source": [
        "draw_curve(y_loss_val,y_loss_train,y_acc_val,y_acc_train)"
      ],
      "metadata": {
        "colab": {
          "base_uri": "https://localhost:8080/",
          "height": 487
        },
        "id": "XJakHUh-ypb-",
        "outputId": "5e6e0444-f6a6-407a-ed0f-c0d15bbd9c17"
      },
      "execution_count": 92,
      "outputs": [
        {
          "output_type": "display_data",
          "data": {
            "text/plain": [
              "<Figure size 1000x500 with 2 Axes>"
            ],
            "image/png": "[encoded data removed]"
          },
          "metadata": {}
        }
      ]
    },
    {
      "cell_type": "markdown",
      "source": [
        "# Model Evaluation\n",
        "\n",
        "---\n",
        "\n"
      ],
      "metadata": {
        "id": "iUYuyIOsy1nW"
      }
    },
    {
      "cell_type": "code",
      "source": [
        "# Make predictions\n",
        "model_1.eval()\n",
        "with torch.inference_mode():\n",
        "    y_preds = torch.round(torch.sigmoid(model_1(X_test))).squeeze()\n",
        "y_preds[:15], y[:15] # want preds in same format as truth labels"
      ],
      "metadata": {
        "colab": {
          "base_uri": "https://localhost:8080/"
        },
        "id": "aUbVMvswyxmk",
        "outputId": "81d94354-a89d-4451-d75e-f0ed5ac7bbb7"
      },
      "execution_count": 93,
      "outputs": [
        {
          "output_type": "execute_result",
          "data": {
            "text/plain": [
              "(tensor([0., 0., 0., 0., 0., 0., 0., 0., 0., 0., 0., 0., 0., 0., 0.]),\n",
              " tensor([1., 0., 1., 0., 0., 1., 0., 0., 1., 0., 0., 0., 0., 0., 1.]))"
            ]
          },
          "metadata": {},
          "execution_count": 93
        }
      ]
    },
    {
      "cell_type": "code",
      "source": [
        "from sklearn.metrics import accuracy_score, confusion_matrix, classification_report\n",
        "print(\"Confusion Matrix: Test Data\")\n",
        "conf_matrix=metrics.confusion_matrix(y_test, y_preds)\n",
        "print(metrics.confusion_matrix(y_test, y_preds))"
      ],
      "metadata": {
        "colab": {
          "base_uri": "https://localhost:8080/"
        },
        "id": "ZD3u26U_bA1r",
        "outputId": "e257783b-0cd8-4b42-a157-ce9decc94827"
      },
      "execution_count": 94,
      "outputs": [
        {
          "output_type": "stream",
          "name": "stdout",
          "text": [
            "Confusion Matrix: Test Data\n",
            "[[22  1]\n",
            " [12  0]]\n"
          ]
        }
      ]
    },
    {
      "cell_type": "code",
      "source": [
        "#classification report -\n",
        "print(\"Classification Report:\")\n",
        "print(metrics.classification_report(y_test, y_preds, target_names=['0', '1']))"
      ],
      "metadata": {
        "colab": {
          "base_uri": "https://localhost:8080/"
        },
        "id": "opAKlUTqAbdZ",
        "outputId": "956e66b7-a9c7-4464-ba44-ae92fde9df08"
      },
      "execution_count": 95,
      "outputs": [
        {
          "output_type": "stream",
          "name": "stdout",
          "text": [
            "Classification Report:\n",
            "              precision    recall  f1-score   support\n",
            "\n",
            "           0       0.65      0.96      0.77        23\n",
            "           1       0.00      0.00      0.00        12\n",
            "\n",
            "    accuracy                           0.63        35\n",
            "   macro avg       0.32      0.48      0.39        35\n",
            "weighted avg       0.43      0.63      0.51        35\n",
            "\n"
          ]
        }
      ]
    },
    {
      "cell_type": "code",
      "source": [
        "from sklearn.metrics import ConfusionMatrixDisplay\n",
        "\n",
        "# Change figure size and increase dpi for better resolution\n",
        "# and get reference to axes object\n",
        "fig, ax = plt.subplots(figsize=(8,6), dpi=100)\n",
        "\n",
        "# initialize using the raw 2D confusion matrix\n",
        "# and output labels (in our case, it's 0 and 1)\n",
        "display = ConfusionMatrixDisplay(conf_matrix)\n",
        "\n",
        "# set the plot title using the axes object\n",
        "ax.set(title='Confusion Matrix for the Trafficking Detection ANN Model 1')\n",
        "\n",
        "# show the plot.\n",
        "# Pass the parameter ax to show customizations (ex. title)\n",
        "display.plot(ax=ax);"
      ],
      "metadata": {
        "colab": {
          "base_uri": "https://localhost:8080/",
          "height": 564
        },
        "id": "Y6WEP8dcbEwt",
        "outputId": "988ee54c-16d0-4ed2-a1aa-d366c1478761"
      },
      "execution_count": 96,
      "outputs": [
        {
          "output_type": "display_data",
          "data": {
            "text/plain": [
              "<Figure size 800x600 with 2 Axes>"
            ],
            "image/png": "[encoded data removed]"
          },
          "metadata": {}
        }
      ]
    },
    {
      "cell_type": "markdown",
      "source": [
        "# **Model 2** :Add Layers and **Sigmoid** Activation Function\n",
        "\n",
        "---\n"
      ],
      "metadata": {
        "id": "CzCsc6vby7ci"
      }
    },
    {
      "cell_type": "code",
      "source": [
        "model_2 = model_2 = nn.Sequential(\n",
        "    nn.Linear(in_features=X.shape[1], out_features=10),\n",
        "    nn.Linear(in_features=10, out_features=20) ,\n",
        "    nn.Linear(in_features=20, out_features=1),\n",
        "    nn.Sigmoid(),\n",
        ").to(device)\n",
        "model_2"
      ],
      "metadata": {
        "colab": {
          "base_uri": "https://localhost:8080/"
        },
        "id": "O3BodC4Jy78l",
        "outputId": "e050c1ba-b4aa-49d0-e6fe-7ce372e50ed2"
      },
      "execution_count": 97,
      "outputs": [
        {
          "output_type": "execute_result",
          "data": {
            "text/plain": [
              "Sequential(\n",
              "  (0): Linear(in_features=1411, out_features=10, bias=True)\n",
              "  (1): Linear(in_features=10, out_features=20, bias=True)\n",
              "  (2): Linear(in_features=20, out_features=1, bias=True)\n",
              "  (3): Sigmoid()\n",
              ")"
            ]
          },
          "metadata": {},
          "execution_count": 97
        }
      ]
    },
    {
      "cell_type": "code",
      "source": [
        "loss_fn = nn.BCEWithLogitsLoss()\n",
        "optimizer = torch.optim.SGD(model_2.parameters(), lr=0.2)"
      ],
      "metadata": {
        "id": "01BBodPezEC8"
      },
      "execution_count": 98,
      "outputs": []
    },
    {
      "cell_type": "markdown",
      "source": [
        "# Model Training and Validation\n",
        "\n",
        "---\n",
        "\n"
      ],
      "metadata": {
        "id": "AdBUP9xizKnF"
      }
    },
    {
      "cell_type": "code",
      "source": [
        "torch.manual_seed(42)\n",
        "\n",
        "epochs = 50 # Train\n",
        "\n",
        "\n",
        "#initial for Plotting\n",
        "y_loss_train = []\n",
        "y_loss_val = []\n",
        "y_acc_train = []\n",
        "y_acc_val = []\n",
        "\n",
        "# Put data to target device\n",
        "X_train, y_train = X_train.to(device), y_train.to(device)\n",
        "X_test, y_test = X_test.to(device), y_test.to(device)\n",
        "\n",
        "for epoch in range(epochs):\n",
        "    ### Training\n",
        "    # 1. Forward pass\n",
        "    y_logits = model_2(X_train).squeeze()\n",
        "    y_pred = torch.round(torch.sigmoid(y_logits)) # logits -> predicition probabilities -> prediction labels\n",
        "\n",
        "    # 2. Calculate loss/accuracy\n",
        "    loss = loss_fn(y_logits, y_train)\n",
        "    acc = accuracy_fn(y_true=y_train,\n",
        "                      y_pred=y_pred)\n",
        "    # Capture for Plotting\n",
        "    y_loss_train.append(loss.item())\n",
        "    y_acc_train.append(acc)\n",
        "\n",
        "    # 3. Optimizer zero grad\n",
        "    optimizer.zero_grad()\n",
        "\n",
        "    # 4. Loss backwards\n",
        "    loss.backward()\n",
        "\n",
        "    # 5. Optimizer step\n",
        "    optimizer.step()\n",
        "\n",
        "    ### Testing?validation\n",
        "    model_2.eval()\n",
        "    with torch.inference_mode():\n",
        "        # 1. Forward pass\n",
        "        test_logits = model_2(X_test).squeeze()\n",
        "        test_pred = torch.round(torch.sigmoid(test_logits))\n",
        "        # 2. Caculate loss/accuracy\n",
        "        test_loss_2 = loss_fn(test_logits,\n",
        "                            y_test)\n",
        "        test_acc_2 = accuracy_fn(y_true=y_test,\n",
        "                               y_pred=test_pred)\n",
        "        ### Test Acccuracy\n",
        "        y_loss_val.append(test_loss_2.item())\n",
        "        y_acc_val.append(test_acc_2)\n",
        "    # Print out what's happening every 10 epochs\n",
        "    if epoch % 2 == 0:\n",
        "        print(f\"Epoch: {epoch} | Loss: {loss:.5f}, Accuracy: {acc:.2f}% | Test loss: {test_loss_2:.5f}, Test acc: {test_acc_2:.2f}%\")"
      ],
      "metadata": {
        "colab": {
          "base_uri": "https://localhost:8080/"
        },
        "id": "RTfpV_sNzJne",
        "outputId": "f02d6f31-cbad-4b73-a1f4-c6ffd5025e97"
      },
      "execution_count": 99,
      "outputs": [
        {
          "output_type": "stream",
          "name": "stdout",
          "text": [
            "Epoch: 0 | Loss: 0.70296, Accuracy: 53.96% | Test loss: 0.76683, Test acc: 37.14%\n",
            "Epoch: 2 | Loss: 0.69483, Accuracy: 54.68% | Test loss: 0.75812, Test acc: 37.14%\n",
            "Epoch: 4 | Loss: 0.69260, Accuracy: 54.68% | Test loss: 0.75071, Test acc: 37.14%\n",
            "Epoch: 6 | Loss: 0.69066, Accuracy: 54.68% | Test loss: 0.74436, Test acc: 37.14%\n",
            "Epoch: 8 | Loss: 0.68896, Accuracy: 54.68% | Test loss: 0.73888, Test acc: 37.14%\n",
            "Epoch: 10 | Loss: 0.68743, Accuracy: 54.68% | Test loss: 0.73413, Test acc: 37.14%\n",
            "Epoch: 12 | Loss: 0.68606, Accuracy: 54.68% | Test loss: 0.72999, Test acc: 37.14%\n",
            "Epoch: 14 | Loss: 0.68481, Accuracy: 54.68% | Test loss: 0.72636, Test acc: 37.14%\n",
            "Epoch: 16 | Loss: 0.68366, Accuracy: 54.68% | Test loss: 0.72318, Test acc: 37.14%\n",
            "Epoch: 18 | Loss: 0.68260, Accuracy: 54.68% | Test loss: 0.72038, Test acc: 37.14%\n",
            "Epoch: 20 | Loss: 0.68160, Accuracy: 54.68% | Test loss: 0.71792, Test acc: 37.14%\n",
            "Epoch: 22 | Loss: 0.68067, Accuracy: 54.68% | Test loss: 0.71576, Test acc: 37.14%\n",
            "Epoch: 24 | Loss: 0.67978, Accuracy: 54.68% | Test loss: 0.71387, Test acc: 37.14%\n",
            "Epoch: 26 | Loss: 0.67892, Accuracy: 54.68% | Test loss: 0.71222, Test acc: 37.14%\n",
            "Epoch: 28 | Loss: 0.67808, Accuracy: 54.68% | Test loss: 0.71078, Test acc: 37.14%\n",
            "Epoch: 30 | Loss: 0.67726, Accuracy: 54.68% | Test loss: 0.70955, Test acc: 37.14%\n",
            "Epoch: 32 | Loss: 0.67643, Accuracy: 54.68% | Test loss: 0.70849, Test acc: 37.14%\n",
            "Epoch: 34 | Loss: 0.67558, Accuracy: 54.68% | Test loss: 0.70760, Test acc: 37.14%\n",
            "Epoch: 36 | Loss: 0.67470, Accuracy: 54.68% | Test loss: 0.70686, Test acc: 37.14%\n",
            "Epoch: 38 | Loss: 0.67377, Accuracy: 54.68% | Test loss: 0.70629, Test acc: 37.14%\n",
            "Epoch: 40 | Loss: 0.67278, Accuracy: 54.68% | Test loss: 0.70586, Test acc: 37.14%\n",
            "Epoch: 42 | Loss: 0.67169, Accuracy: 54.68% | Test loss: 0.70558, Test acc: 37.14%\n",
            "Epoch: 44 | Loss: 0.67049, Accuracy: 54.68% | Test loss: 0.70544, Test acc: 37.14%\n",
            "Epoch: 46 | Loss: 0.66914, Accuracy: 54.68% | Test loss: 0.70545, Test acc: 37.14%\n",
            "Epoch: 48 | Loss: 0.66765, Accuracy: 54.68% | Test loss: 0.70556, Test acc: 37.14%\n"
          ]
        }
      ]
    },
    {
      "cell_type": "markdown",
      "source": [
        "# Plotting Learning Curves"
      ],
      "metadata": {
        "id": "MVS-5NmyzyWP"
      }
    },
    {
      "cell_type": "code",
      "source": [
        "draw_curve(y_loss_val,y_loss_train,y_acc_val,y_acc_train)"
      ],
      "metadata": {
        "colab": {
          "base_uri": "https://localhost:8080/",
          "height": 487
        },
        "id": "hn30t17Rzyva",
        "outputId": "c0ecbb63-3b1e-4883-af82-68fdb964f07c"
      },
      "execution_count": 100,
      "outputs": [
        {
          "output_type": "display_data",
          "data": {
            "text/plain": [
              "<Figure size 1000x500 with 2 Axes>"
            ],
            "image/png": "[encoded data removed]"
          },
          "metadata": {}
        }
      ]
    },
    {
      "cell_type": "code",
      "source": [
        "# Make predictions\n",
        "model_2.eval()\n",
        "with torch.inference_mode():\n",
        "    y_preds = torch.round(torch.sigmoid(model_2(X_test))).squeeze()\n",
        "y_preds[:15], y[:15] # want preds in same format as truth labels"
      ],
      "metadata": {
        "colab": {
          "base_uri": "https://localhost:8080/"
        },
        "id": "drMX1LorbTcm",
        "outputId": "5bee295d-ca21-461a-da4c-d70572d8f4d6"
      },
      "execution_count": 101,
      "outputs": [
        {
          "output_type": "execute_result",
          "data": {
            "text/plain": [
              "(tensor([1., 1., 1., 0., 1., 1., 1., 1., 1., 1., 1., 1., 1., 1., 1.]),\n",
              " tensor([1., 0., 1., 0., 0., 1., 0., 0., 1., 0., 0., 0., 0., 0., 1.]))"
            ]
          },
          "metadata": {},
          "execution_count": 101
        }
      ]
    },
    {
      "cell_type": "code",
      "source": [
        "from sklearn.metrics import accuracy_score, confusion_matrix, classification_report\n",
        "print(\"Confusion Matrix: Test Data\")\n",
        "conf_matrix=metrics.confusion_matrix(y_test, y_preds)\n",
        "print(metrics.confusion_matrix(y_test, y_preds))"
      ],
      "metadata": {
        "colab": {
          "base_uri": "https://localhost:8080/"
        },
        "id": "ZohQUsejbIaM",
        "outputId": "502c2d20-5b57-4a37-e36c-68d2400dc5d5"
      },
      "execution_count": 102,
      "outputs": [
        {
          "output_type": "stream",
          "name": "stdout",
          "text": [
            "Confusion Matrix: Test Data\n",
            "[[ 1 22]\n",
            " [ 0 12]]\n"
          ]
        }
      ]
    },
    {
      "cell_type": "code",
      "source": [
        "#classification report -\n",
        "print(\"Classification Report:\")\n",
        "print(metrics.classification_report(y_test, y_preds, target_names=['0', '1']))"
      ],
      "metadata": {
        "colab": {
          "base_uri": "https://localhost:8080/"
        },
        "id": "zrLKQeUmAZab",
        "outputId": "8c4b40f8-df33-4df1-d179-0e9cb3686a41"
      },
      "execution_count": 103,
      "outputs": [
        {
          "output_type": "stream",
          "name": "stdout",
          "text": [
            "Classification Report:\n",
            "              precision    recall  f1-score   support\n",
            "\n",
            "           0       1.00      0.04      0.08        23\n",
            "           1       0.35      1.00      0.52        12\n",
            "\n",
            "    accuracy                           0.37        35\n",
            "   macro avg       0.68      0.52      0.30        35\n",
            "weighted avg       0.78      0.37      0.23        35\n",
            "\n"
          ]
        }
      ]
    },
    {
      "cell_type": "code",
      "source": [
        "from sklearn.metrics import ConfusionMatrixDisplay\n",
        "\n",
        "# Change figure size and increase dpi for better resolution\n",
        "# and get reference to axes object\n",
        "fig, ax = plt.subplots(figsize=(8,6), dpi=100)\n",
        "\n",
        "# initialize using the raw 2D confusion matrix\n",
        "# and output labels (in our case, it's 0 and 1)\n",
        "display = ConfusionMatrixDisplay(conf_matrix)\n",
        "\n",
        "# set the plot title using the axes object\n",
        "ax.set(title='Confusion Matrix for the Trafficking Detection ANN Model 2 Model')\n",
        "\n",
        "# show the plot.\n",
        "# Pass the parameter ax to show customizations (ex. title)\n",
        "display.plot(ax=ax);"
      ],
      "metadata": {
        "colab": {
          "base_uri": "https://localhost:8080/",
          "height": 564
        },
        "id": "Fexd5E-LbYNd",
        "outputId": "d1d7d5d9-3fc4-46da-f47e-57af09496af3"
      },
      "execution_count": 104,
      "outputs": [
        {
          "output_type": "display_data",
          "data": {
            "text/plain": [
              "<Figure size 800x600 with 2 Axes>"
            ],
            "image/png": "[encoded data removed]"
          },
          "metadata": {}
        }
      ]
    },
    {
      "cell_type": "markdown",
      "source": [
        "# **Model 3** :Add Layers and **Tanh** Activation Function\n",
        "\n",
        "---"
      ],
      "metadata": {
        "id": "KsKvAI7m0GVm"
      }
    },
    {
      "cell_type": "code",
      "source": [
        "model_3 = nn.Sequential(\n",
        "    nn.Linear(in_features=X.shape[1], out_features=10),\n",
        "    nn.Linear(in_features=10, out_features=25) ,\n",
        "    nn.Linear(in_features=25, out_features=12) ,\n",
        "    nn.Linear(in_features=12, out_features=1),\n",
        "    nn.Tanh(),\n",
        ").to(device)\n",
        "model_3"
      ],
      "metadata": {
        "colab": {
          "base_uri": "https://localhost:8080/"
        },
        "id": "TKGAMgLl0GGW",
        "outputId": "06790525-0fae-4a65-a6c9-0972569c1d1f"
      },
      "execution_count": 105,
      "outputs": [
        {
          "output_type": "execute_result",
          "data": {
            "text/plain": [
              "Sequential(\n",
              "  (0): Linear(in_features=1411, out_features=10, bias=True)\n",
              "  (1): Linear(in_features=10, out_features=25, bias=True)\n",
              "  (2): Linear(in_features=25, out_features=12, bias=True)\n",
              "  (3): Linear(in_features=12, out_features=1, bias=True)\n",
              "  (4): Tanh()\n",
              ")"
            ]
          },
          "metadata": {},
          "execution_count": 105
        }
      ]
    },
    {
      "cell_type": "code",
      "source": [
        "loss_fn = nn.BCEWithLogitsLoss()\n",
        "optimizer = torch.optim.SGD(model_3.parameters(), lr=0.2)"
      ],
      "metadata": {
        "id": "Yc1Fn5Uf0Mtm"
      },
      "execution_count": 106,
      "outputs": []
    },
    {
      "cell_type": "markdown",
      "source": [
        "# Model  3 Training and Validation"
      ],
      "metadata": {
        "id": "Mp6SKbtQ0X4V"
      }
    },
    {
      "cell_type": "code",
      "source": [
        "torch.manual_seed(42)\n",
        "\n",
        "epochs = 50 # Train\n",
        "\n",
        "\n",
        "#initial for Plotting\n",
        "y_loss_train = []\n",
        "y_loss_val = []\n",
        "y_acc_train = []\n",
        "y_acc_val = []\n",
        "\n",
        "# Put data to target device\n",
        "X_train, y_train = X_train.to(device), y_train.to(device)\n",
        "X_test, y_test = X_test.to(device), y_test.to(device)\n",
        "\n",
        "for epoch in range(epochs):\n",
        "    ### Training\n",
        "    # 1. Forward pass\n",
        "    y_logits = model_3(X_train).squeeze()\n",
        "    y_pred = torch.round(torch.sigmoid(y_logits)) # logits -> predicition probabilities -> prediction labels\n",
        "\n",
        "    # 2. Calculate loss/accuracy\n",
        "    loss = loss_fn(y_logits, y_train)\n",
        "    acc = accuracy_fn(y_true=y_train,\n",
        "                      y_pred=y_pred)\n",
        "    # Capture for Plotting\n",
        "    y_loss_train.append(loss.item())\n",
        "    y_acc_train.append(acc)\n",
        "\n",
        "    # 3. Optimizer zero grad\n",
        "    optimizer.zero_grad()\n",
        "\n",
        "    # 4. Loss backwards\n",
        "    loss.backward()\n",
        "\n",
        "    # 5. Optimizer step\n",
        "    optimizer.step()\n",
        "\n",
        "    ### Testing\n",
        "    model_3.eval()\n",
        "    with torch.inference_mode():\n",
        "        # 1. Forward pass\n",
        "        test_logits = model_3(X_test).squeeze()\n",
        "        test_pred = torch.round(torch.sigmoid(test_logits))\n",
        "        # 2. Caculate loss/accuracy\n",
        "        test_loss_3 = loss_fn(test_logits,\n",
        "                            y_test)\n",
        "        test_acc_3= accuracy_fn(y_true=y_test,\n",
        "                               y_pred=test_pred)\n",
        "        ### Test Acccuracy\n",
        "        y_loss_val.append(test_loss_3.item())\n",
        "        y_acc_val.append(test_acc_3)\n",
        "\n",
        "    # Print out what's happening every 10 epochs\n",
        "    if epoch % 2 == 0:\n",
        "        print(f\"Epoch: {epoch} | Loss: {loss:.5f}, Accuracy: {acc:.2f}% | Test loss: {test_loss_3:.5f}, Test acc: {test_acc_3:.2f}%\")"
      ],
      "metadata": {
        "colab": {
          "base_uri": "https://localhost:8080/"
        },
        "id": "Mw2ASKck0P4N",
        "outputId": "008a3a19-8402-4327-f4db-eb63fdbae725"
      },
      "execution_count": 107,
      "outputs": [
        {
          "output_type": "stream",
          "name": "stdout",
          "text": [
            "Epoch: 0 | Loss: 0.68820, Accuracy: 54.68% | Test loss: 0.74303, Test acc: 34.29%\n",
            "Epoch: 2 | Loss: 0.69462, Accuracy: 53.96% | Test loss: 0.73080, Test acc: 37.14%\n",
            "Epoch: 4 | Loss: 0.69081, Accuracy: 53.96% | Test loss: 0.72086, Test acc: 42.86%\n",
            "Epoch: 6 | Loss: 0.68654, Accuracy: 56.12% | Test loss: 0.71204, Test acc: 42.86%\n",
            "Epoch: 8 | Loss: 0.68144, Accuracy: 56.12% | Test loss: 0.70377, Test acc: 45.71%\n",
            "Epoch: 10 | Loss: 0.67517, Accuracy: 64.75% | Test loss: 0.69571, Test acc: 54.29%\n",
            "Epoch: 12 | Loss: 0.66742, Accuracy: 66.91% | Test loss: 0.68751, Test acc: 65.71%\n",
            "Epoch: 14 | Loss: 0.65794, Accuracy: 71.94% | Test loss: 0.67881, Test acc: 62.86%\n",
            "Epoch: 16 | Loss: 0.64660, Accuracy: 74.10% | Test loss: 0.66954, Test acc: 65.71%\n",
            "Epoch: 18 | Loss: 0.63342, Accuracy: 76.26% | Test loss: 0.66002, Test acc: 65.71%\n",
            "Epoch: 20 | Loss: 0.61863, Accuracy: 76.98% | Test loss: 0.65083, Test acc: 62.86%\n",
            "Epoch: 22 | Loss: 0.60264, Accuracy: 77.70% | Test loss: 0.64268, Test acc: 62.86%\n",
            "Epoch: 24 | Loss: 0.58589, Accuracy: 80.58% | Test loss: 0.63650, Test acc: 62.86%\n",
            "Epoch: 26 | Loss: 0.56873, Accuracy: 82.01% | Test loss: 0.63316, Test acc: 62.86%\n",
            "Epoch: 28 | Loss: 0.55139, Accuracy: 82.01% | Test loss: 0.63255, Test acc: 62.86%\n",
            "Epoch: 30 | Loss: 0.53440, Accuracy: 85.61% | Test loss: 0.63291, Test acc: 62.86%\n",
            "Epoch: 32 | Loss: 0.51863, Accuracy: 87.05% | Test loss: 0.63211, Test acc: 62.86%\n",
            "Epoch: 34 | Loss: 0.50641, Accuracy: 88.49% | Test loss: 0.59634, Test acc: 65.71%\n",
            "Epoch: 36 | Loss: 0.69908, Accuracy: 55.40% | Test loss: 0.65622, Test acc: 57.14%\n",
            "Epoch: 38 | Loss: 0.55698, Accuracy: 77.70% | Test loss: 0.89276, Test acc: 40.00%\n",
            "Epoch: 40 | Loss: 0.50596, Accuracy: 83.45% | Test loss: 0.72978, Test acc: 54.29%\n",
            "Epoch: 42 | Loss: 0.63504, Accuracy: 65.47% | Test loss: 0.82563, Test acc: 48.57%\n",
            "Epoch: 44 | Loss: 0.58145, Accuracy: 71.94% | Test loss: 0.76066, Test acc: 51.43%\n",
            "Epoch: 46 | Loss: 0.51926, Accuracy: 82.01% | Test loss: 0.67630, Test acc: 57.14%\n",
            "Epoch: 48 | Loss: 0.49036, Accuracy: 84.89% | Test loss: 0.68612, Test acc: 54.29%\n"
          ]
        }
      ]
    },
    {
      "cell_type": "code",
      "source": [
        "draw_curve(y_loss_val,y_loss_train,y_acc_val,y_acc_train)"
      ],
      "metadata": {
        "colab": {
          "base_uri": "https://localhost:8080/",
          "height": 487
        },
        "id": "b0Ptfe-A1ODI",
        "outputId": "fad01a02-d367-4096-8998-2bf3009337fc"
      },
      "execution_count": 108,
      "outputs": [
        {
          "output_type": "display_data",
          "data": {
            "text/plain": [
              "<Figure size 1000x500 with 2 Axes>"
            ],
            "image/png": "[encoded data removed]"
          },
          "metadata": {}
        }
      ]
    },
    {
      "cell_type": "code",
      "source": [
        "# Make predictions\n",
        "model_3.eval()\n",
        "with torch.inference_mode():\n",
        "    y_preds = torch.round(torch.sigmoid(model_3(X_test))).squeeze()\n",
        "y_preds[:10], y[:10] # want preds in same format as truth labels"
      ],
      "metadata": {
        "colab": {
          "base_uri": "https://localhost:8080/"
        },
        "id": "hz1u-Iau1vKP",
        "outputId": "130ebe22-2755-46d0-ac56-47e05d7da81d"
      },
      "execution_count": 109,
      "outputs": [
        {
          "output_type": "execute_result",
          "data": {
            "text/plain": [
              "(tensor([1., 1., 0., 1., 0., 0., 1., 1., 0., 0.]),\n",
              " tensor([1., 0., 1., 0., 0., 1., 0., 0., 1., 0.]))"
            ]
          },
          "metadata": {},
          "execution_count": 109
        }
      ]
    },
    {
      "cell_type": "code",
      "source": [
        "from sklearn.metrics import accuracy_score, confusion_matrix, classification_report\n",
        "print(\"Confusion Matrix: Test Data\")\n",
        "conf_matrix=metrics.confusion_matrix(y_test, y_preds)\n",
        "print(metrics.confusion_matrix(y_test, y_preds))"
      ],
      "metadata": {
        "colab": {
          "base_uri": "https://localhost:8080/"
        },
        "id": "US2eT3s0bsq2",
        "outputId": "578bb140-5ca7-447d-ba05-171943032661"
      },
      "execution_count": 110,
      "outputs": [
        {
          "output_type": "stream",
          "name": "stdout",
          "text": [
            "Confusion Matrix: Test Data\n",
            "[[12 11]\n",
            " [ 3  9]]\n"
          ]
        }
      ]
    },
    {
      "cell_type": "code",
      "source": [
        "#classification report -\n",
        "print(\"Classification Report:\")\n",
        "print(metrics.classification_report(y_test, y_preds, target_names=['0', '1']))"
      ],
      "metadata": {
        "colab": {
          "base_uri": "https://localhost:8080/"
        },
        "id": "YmZa2QpTAT6Z",
        "outputId": "b2189b47-342b-4764-dbd4-ba978103c032"
      },
      "execution_count": 111,
      "outputs": [
        {
          "output_type": "stream",
          "name": "stdout",
          "text": [
            "Classification Report:\n",
            "              precision    recall  f1-score   support\n",
            "\n",
            "           0       0.80      0.52      0.63        23\n",
            "           1       0.45      0.75      0.56        12\n",
            "\n",
            "    accuracy                           0.60        35\n",
            "   macro avg       0.62      0.64      0.60        35\n",
            "weighted avg       0.68      0.60      0.61        35\n",
            "\n"
          ]
        }
      ]
    },
    {
      "cell_type": "code",
      "source": [
        "from sklearn.metrics import ConfusionMatrixDisplay\n",
        "\n",
        "# Change figure size and increase dpi for better resolution\n",
        "# and get reference to axes object\n",
        "fig, ax = plt.subplots(figsize=(8,6), dpi=100)\n",
        "\n",
        "# initialize using the raw 2D confusion matrix\n",
        "# and output labels (in our case, it's 0 and 1)\n",
        "display = ConfusionMatrixDisplay(conf_matrix)\n",
        "\n",
        "# set the plot title using the axes object\n",
        "ax.set(title='Confusion Matrix for the Trafficking Detection ANN Model 3 Model')\n",
        "\n",
        "# show the plot.\n",
        "# Pass the parameter ax to show customizations (ex. title)\n",
        "display.plot(ax=ax);"
      ],
      "metadata": {
        "colab": {
          "base_uri": "https://localhost:8080/",
          "height": 564
        },
        "id": "KkhHEcLxbzHl",
        "outputId": "22507e89-63cb-4dd5-ac60-4fd05be84bb7"
      },
      "execution_count": 112,
      "outputs": [
        {
          "output_type": "display_data",
          "data": {
            "text/plain": [
              "<Figure size 800x600 with 2 Axes>"
            ],
            "image/png": "[encoded data removed]"
          },
          "metadata": {}
        }
      ]
    }
  ]
}